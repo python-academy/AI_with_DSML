{
 "cells": [
  {
   "cell_type": "markdown",
   "id": "15e04bca-1a3f-4238-ab44-4206ebe68565",
   "metadata": {},
   "source": [
    "## lab activity 9.6.1: LAB: K-nearest neighbors classification"
   ]
  },
  {
   "cell_type": "markdown",
   "id": "37731817-0687-4937-93d8-e399e25b9ff4",
   "metadata": {},
   "source": [
    "**The dataset SDSS contains 17 observational features and one class feature for 10000 deep sky objects observed by the Sloan Digital Sky Survey. Use sklearn's KNeighborsClassifier function to perform kNN classification to classify each object by the object's redshift and u-g color.**\n",
    "\n",
    "* **Import the necessary modules for kNN classification.**\n",
    "* **Create a dataframe X with features redshift and u_g.**\n",
    "* **Create dataframe y with feature class.**\n",
    "* **Initialize a kNN model with k=3.**\n",
    "* **Fit the model using the training data.**\n",
    "* **Find the predicted classes for the test data.**\n",
    "* **Calculate the accuracy score and confusion matrix.**"
   ]
  },
  {
   "cell_type": "markdown",
   "id": "8a66d470-e449-450c-b516-ef3feb4b7b68",
   "metadata": {},
   "source": [
    "**Ex: If the feature u is used rather than u_g, the output is:**"
   ]
  },
  {
   "cell_type": "raw",
   "id": "95941023-b782-46ea-813b-6eecc258acf0",
   "metadata": {},
   "source": [
    "Accuracy score is 0.979\n",
    "[[1452    7   38]\n",
    " [  18  268    0]\n",
    " [   0    0 1217]]"
   ]
  },
  {
   "cell_type": "code",
   "execution_count": null,
   "id": "8174e952-178f-4ceb-8f87-f6075b49d21e",
   "metadata": {},
   "outputs": [],
   "source": [
    "# Import needed packages for classification\n",
    "# Your code here\n",
    "\n",
    "# Import packages for evaluation\n",
    "# Your code here\n",
    "\n",
    "# Load the dataset\n",
    "skySurvey = pd.read_csv('SDSS.csv')\n",
    "\n",
    "# Create a new feature from u - g\n",
    "skySurvey['u_g'] = skySurvey['u'] - skySurvey['g']\n",
    "\n",
    "# Create dataframe X with features redshift and u_g\n",
    "X = # Your code here\n",
    "\n",
    "# Create dataframe y with feature class\n",
    "y = # Your code here\n",
    "\n",
    "np.random.seed(42)\n",
    "\n",
    "# Split data into training and test sets\n",
    "X_train, X_test, y_train, y_test = train_test_split(X, y, test_size=0.3)\n",
    "\n",
    "# Initialize model with k=3\n",
    "skySurveyKnn = # Your code here\n",
    "\n",
    "# Fit model using X_train and y_train\n",
    "# Your code here\n",
    "\n",
    "# Find the predicted classes for X_test\n",
    "y_pred = # Your code here\n",
    "\n",
    "# Calculate accuracy score\n",
    "score = # Your code here\n",
    "\n",
    "# Print accuracy score\n",
    "print('Accuracy score is ', end=\"\")\n",
    "print('%.3f' % score)\n",
    "\n",
    "# Print confusion matrix \n",
    "print(# Your code here)"
   ]
  }
 ],
 "metadata": {
  "kernelspec": {
   "display_name": "Python [conda env:base] *",
   "language": "python",
   "name": "conda-base-py"
  },
  "language_info": {
   "codemirror_mode": {
    "name": "ipython",
    "version": 3
   },
   "file_extension": ".py",
   "mimetype": "text/x-python",
   "name": "python",
   "nbconvert_exporter": "python",
   "pygments_lexer": "ipython3",
   "version": "3.12.7"
  }
 },
 "nbformat": 4,
 "nbformat_minor": 5
}
