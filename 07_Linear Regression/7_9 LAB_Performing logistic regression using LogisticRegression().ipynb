{
 "cells": [
  {
   "cell_type": "code",
   "execution_count": null,
   "id": "189514b8-9a07-41b3-907c-4858c8f9a8dd",
   "metadata": {},
   "outputs": [],
   "source": [
    "# Import the necessary libraries\n",
    "import pandas as pd\n",
    "from sklearn.linear_model import LogisticRegression\n",
    "import numpy as np\n",
    "\n",
    "# Load nbaallelo_log.csv into a dataframe\n",
    "NBA = pd.read_csv(\"nbaallelo_log.csv\")\n",
    "\n",
    "# Hot encode the game_result variable as a numeric variable with 0 for L and 1 for W\n",
    "# Your code here\n",
    "\n",
    "# Store relevant columns as variables\n",
    "X = NBA[['elo_i']].values.reshape(-1, 1)\n",
    "y = NBA[['game_result']].values.reshape(-1, 1).astype(int)\n",
    "\n",
    "# Initialize and fit the logistic model using the LogisticRegression function\n",
    "# Your code here\n",
    "\n",
    "# Predict the probability that an elo_i score of 1310 is a win / loss\n",
    "outcomeProb = # Your code here\n",
    "\n",
    "# Predict whether an elo_i score of 1310 is a win (1) or loss (0)\n",
    "outcomePred = # Your code here\n",
    "\n",
    "print(\"A team with the given elo_i score has predicted probability: \\n\", end=\"\") \n",
    "print('%.3f' % outcomeProb[0][0] + \" losing\\n\", end=\"\")\n",
    "print('%.3f' % outcomeProb[0][1] + \" winning\")\n",
    "print(\"and the overall prediction is\",\n",
    "     outcomePred[0])"
   ]
  }
 ],
 "metadata": {
  "kernelspec": {
   "display_name": "Python [conda env:base] *",
   "language": "python",
   "name": "conda-base-py"
  },
  "language_info": {
   "codemirror_mode": {
    "name": "ipython",
    "version": 3
   },
   "file_extension": ".py",
   "mimetype": "text/x-python",
   "name": "python",
   "nbconvert_exporter": "python",
   "pygments_lexer": "ipython3",
   "version": "3.12.7"
  }
 },
 "nbformat": 4,
 "nbformat_minor": 5
}
