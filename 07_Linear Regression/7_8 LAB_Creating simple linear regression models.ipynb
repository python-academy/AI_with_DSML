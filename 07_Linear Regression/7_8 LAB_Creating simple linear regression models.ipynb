{
 "cells": [
  {
   "cell_type": "code",
   "execution_count": null,
   "id": "2bc8bdd3-95f3-4b56-a448-f3d58d2ebad3",
   "metadata": {},
   "outputs": [],
   "source": [
    "# Import the necessary modules\n",
    "import pandas as pd\n",
    "import numpy as np\n",
    "from sklearn.linear_model import LinearRegression\n",
    "\n",
    "# Read in nbaallelo_slr.csv\n",
    "nba = # Your code here\n",
    "\n",
    "# Create a new column in the data frame that is the difference between pts and opp_pts\n",
    "nba['y'] = # Your code here\n",
    "\n",
    "# Store relevant columns as variables\n",
    "X = # Your code here\n",
    "y = # Your code here\n",
    "\n",
    "# Initialize the linear regression model\n",
    "SLRModel = # Your code here\n",
    "# Fit the model on X and y\n",
    "# Your code here\n",
    "\n",
    "# Print the intercept\n",
    "intercept = # Your code here\n",
    "print('The intercept of the linear regression line is ', end=\"\")\n",
    "print('%.3f' % intercept[0] + \". \")\n",
    "\n",
    "# Print the slope\n",
    "slope = # Your code here\n",
    "print('The slope of the linear regression line is ', end=\"\")\n",
    "print('%.3f' % slope[0][0] + \". \")\n",
    "\n",
    "# Compute the proportion of variation explained by the linear regression using the LinearRegression object's score method\n",
    "score = # Your code here\n",
    "print('The proportion of variation explained by the linear regression model is ', end=\"\")\n",
    "print('%.3f' % score + \". \")"
   ]
  }
 ],
 "metadata": {
  "kernelspec": {
   "display_name": "Python [conda env:base] *",
   "language": "python",
   "name": "conda-base-py"
  },
  "language_info": {
   "codemirror_mode": {
    "name": "ipython",
    "version": 3
   },
   "file_extension": ".py",
   "mimetype": "text/x-python",
   "name": "python",
   "nbconvert_exporter": "python",
   "pygments_lexer": "ipython3",
   "version": "3.12.7"
  }
 },
 "nbformat": 4,
 "nbformat_minor": 5
}
