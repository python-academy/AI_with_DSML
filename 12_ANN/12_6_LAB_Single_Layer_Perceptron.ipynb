{
 "cells": [
  {
   "cell_type": "markdown",
   "id": "2f3865e7-f52d-486e-bd77-2afb2aa75aab",
   "metadata": {},
   "source": [
    "### lab activity 12.6.1: LAB: Single-layer perceptron"
   ]
  },
  {
   "cell_type": "markdown",
   "id": "011321f1-9bbd-4fda-9082-54b3a5bdbafe",
   "metadata": {},
   "source": [
    "**The nbaallelo_log file contains data on 126314 NBA games from 1947 to 2015. The dataset includes the features pts, elo_i, win_equiv, and game_result. Using the csv file nbaallelo_log.csv and sklearn's Perceptron function, construct a perceptron model to classify whether a team will win or lose a game based on the features pts, elo_i, win_equiv. Complete the program with the following tasks:**\n",
    "\n",
    "* **Scale the features in X and y.**\n",
    "* **Use the Perceptron function to initialize and fit a perceptron model with a learning rate of 0.05 and 20000 epochs.**\n",
    "* **Print the weights for the input variables and bias term.**\n",
    "* **Find the accuracy score.**\n",
    "* **Note: The program reads in a csv file's name from user.**\n",
    "*\n",
    "**Ex: If the program input is **nbaallelo_small.csv**, which contains 100 instances, the output is:**\n",
    "\n",
    "\n",
    "\n"
   ]
  },
  {
   "cell_type": "raw",
   "id": "0e5eb4b7-8ab1-458b-adf0-2a3791514def",
   "metadata": {},
   "source": [
    "[[ 0.00479265 -0.32121666  0.37260294]]\n",
    "[0.]\n",
    "1.000"
   ]
  },
  {
   "cell_type": "code",
   "execution_count": null,
   "id": "6596cddc-41a4-4206-a841-fe7d956fa812",
   "metadata": {},
   "outputs": [],
   "source": [
    "import pandas as pd\n",
    "import numpy as np\n"
   ]
  },
  {
   "cell_type": "code",
   "execution_count": null,
   "id": "16c4c369-e76f-4952-a503-4ee8a5f3109e",
   "metadata": {},
   "outputs": [],
   "source": [
    "from sklearn.linear_model import Perceptron\n",
    "from sklearn.model_selection import train_test_split\n",
    "from sklearn.preprocessing import StandardScaler\n",
    "from sklearn.metrics import accuracy_score,classification_report,confusion_matrix"
   ]
  },
  {
   "cell_type": "code",
   "execution_count": null,
   "id": "957c88c7-902c-4177-854c-67e75a0e55c8",
   "metadata": {},
   "outputs": [],
   "source": [
    "\n",
    "\n",
    "# Load input into a dataframe\n",
    "NBA = pd.read_csv(input())\n",
    "\n",
    "# Hot encode the game_result variable as a numeric variable with 0 for L and 1 for W\n",
    "NBA.loc[NBA['game_result']=='L','game_result']=0\n",
    "NBA.loc[NBA['game_result']=='W','game_result']=1\n",
    "\n",
    "# Store relevant columns as variables\n",
    "X = NBA[['pts','elo_i','win_equiv']]\n",
    "y = NBA[['game_result']].astype(int)\n",
    "\n",
    "# Scale the input features\n",
    "scaler = StandardScaler()\n",
    "XScaled = # Your code here\n",
    "\n",
    "np.random.seed(42)\n",
    "\n",
    "# Split the data into train and test sets\n",
    "XTrain, XTest, yTrain, yTest = train_test_split(XScaled, y, test_size=0.3, random_state=123)\n",
    "\n",
    "# Initialize a perceptron model with a learning rate of 0.05 and 20000 epochs\n",
    "classifyNBA = # Your code here\n",
    "# Fit the perceptron model\n",
    "# Your code here\n",
    "\n",
    "# Create a list of predictions from the test features\n",
    "yPred = # Your code here\n",
    "\n",
    "# Find the weights for the input variables\n",
    "weightVar = # Your code here\n",
    "print(weightVar)\n",
    "\n",
    "# Find the weights for the bias term\n",
    "weightBias = # Your code here\n",
    "print(weightBias)\n",
    "\n",
    "# Find the accuracy score\n",
    "score = # Your code here\n",
    "print('%.3f' % score)"
   ]
  },
  {
   "cell_type": "code",
   "execution_count": null,
   "id": "4b8ae3d9-4322-498d-bb79-5333a35c18e9",
   "metadata": {},
   "outputs": [],
   "source": []
  },
  {
   "cell_type": "code",
   "execution_count": null,
   "id": "da215f17-6a6a-4d93-a178-049927b46911",
   "metadata": {},
   "outputs": [],
   "source": []
  }
 ],
 "metadata": {
  "kernelspec": {
   "display_name": "Python [conda env:base] *",
   "language": "python",
   "name": "conda-base-py"
  },
  "language_info": {
   "codemirror_mode": {
    "name": "ipython",
    "version": 3
   },
   "file_extension": ".py",
   "mimetype": "text/x-python",
   "name": "python",
   "nbconvert_exporter": "python",
   "pygments_lexer": "ipython3",
   "version": "3.12.7"
  }
 },
 "nbformat": 4,
 "nbformat_minor": 5
}
