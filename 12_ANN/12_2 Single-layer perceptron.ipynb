{
 "cells": [
  {
   "cell_type": "markdown",
   "id": "6d657897-7b02-45a6-8ee8-ff40a49d3103",
   "metadata": {
    "execution": {
     "iopub.execute_input": "2023-11-02T15:31:06.966225Z",
     "iopub.status.busy": "2023-11-02T15:31:06.965821Z",
     "iopub.status.idle": "2023-11-02T15:31:07.781909Z",
     "shell.execute_reply": "2023-11-02T15:31:07.781619Z"
    }
   },
   "source": [
    "## Try 12.2.1: Perceptron models in Python."
   ]
  },
  {
   "cell_type": "markdown",
   "id": "51fea1ea-c9f6-45f2-8a50-c04c67e7f2c3",
   "metadata": {},
   "source": [
    "**The Haberman's Survival Dataset contains cases from a study that was conducted between 1958 and 1970 at the University of Chicago's Billings Hospital on the survival of patients who had undergone surgery for breast cancer. The dataset contains four features: the patient's age, year of surgery, number of cancer nodes detected, and whether the patient survived after 5 years.**\n",
    "\n",
    "**The Python code below creates a perceptron model that predicts whether a patient survived based on age, year of surgery, and number of cancer nodes detected.**\n",
    "\n",
    "* **Click the double-right arrow to restart the kernel and run all cells.**\n",
    "* **Examine the code below.**\n",
    "* **Change the learning rate from 0.1 to 0.05. Explore any changes in the output.**"
   ]
  },
  {
   "cell_type": "code",
   "execution_count": 1,
   "id": "ba4c1557-467d-4b0e-9d46-e1e7d51a2141",
   "metadata": {},
   "outputs": [],
   "source": [
    "# Loads the necessary libraries\n",
    "import numpy as np\n",
    "import pandas as pd\n",
    "import seaborn as sns"
   ]
  },
  {
   "cell_type": "code",
   "execution_count": 2,
   "id": "3bcc5fb9-ef3d-4f27-bc93-b0c9acf93587",
   "metadata": {},
   "outputs": [],
   "source": [
    "\n",
    "from sklearn.linear_model import Perceptron\n",
    "from sklearn.model_selection import train_test_split\n",
    "from sklearn.preprocessing import StandardScaler\n",
    "from sklearn.metrics import accuracy_score, classification_report, confusion_matrix"
   ]
  },
  {
   "cell_type": "code",
   "execution_count": 2,
   "id": "c1ce0799-cd10-4b64-b74b-a1f5295223dc",
   "metadata": {
    "execution": {
     "iopub.execute_input": "2023-11-02T15:31:07.783675Z",
     "iopub.status.busy": "2023-11-02T15:31:07.783543Z",
     "iopub.status.idle": "2023-11-02T15:31:07.786452Z",
     "shell.execute_reply": "2023-11-02T15:31:07.786219Z"
    }
   },
   "outputs": [],
   "source": [
    "# Loads haberman.csv\n",
    "haberman = pd.read_csv('haberman.csv')"
   ]
  },
  {
   "cell_type": "code",
   "execution_count": 3,
   "id": "a3c776dc-b8f4-493d-8bcc-2f7eae23013f",
   "metadata": {
    "execution": {
     "iopub.execute_input": "2023-11-02T15:31:07.787855Z",
     "iopub.status.busy": "2023-11-02T15:31:07.787756Z",
     "iopub.status.idle": "2023-11-02T15:31:07.792282Z",
     "shell.execute_reply": "2023-11-02T15:31:07.792030Z"
    }
   },
   "outputs": [
    {
     "data": {
      "text/html": [
       "<div>\n",
       "<style scoped>\n",
       "    .dataframe tbody tr th:only-of-type {\n",
       "        vertical-align: middle;\n",
       "    }\n",
       "\n",
       "    .dataframe tbody tr th {\n",
       "        vertical-align: top;\n",
       "    }\n",
       "\n",
       "    .dataframe thead th {\n",
       "        text-align: right;\n",
       "    }\n",
       "</style>\n",
       "<table border=\"1\" class=\"dataframe\">\n",
       "  <thead>\n",
       "    <tr style=\"text-align: right;\">\n",
       "      <th></th>\n",
       "      <th>Age</th>\n",
       "      <th>Year</th>\n",
       "      <th>Nodes</th>\n",
       "      <th>Survived</th>\n",
       "    </tr>\n",
       "  </thead>\n",
       "  <tbody>\n",
       "    <tr>\n",
       "      <th>0</th>\n",
       "      <td>30</td>\n",
       "      <td>64</td>\n",
       "      <td>1</td>\n",
       "      <td>1</td>\n",
       "    </tr>\n",
       "    <tr>\n",
       "      <th>1</th>\n",
       "      <td>30</td>\n",
       "      <td>62</td>\n",
       "      <td>3</td>\n",
       "      <td>1</td>\n",
       "    </tr>\n",
       "    <tr>\n",
       "      <th>2</th>\n",
       "      <td>30</td>\n",
       "      <td>65</td>\n",
       "      <td>0</td>\n",
       "      <td>1</td>\n",
       "    </tr>\n",
       "    <tr>\n",
       "      <th>3</th>\n",
       "      <td>31</td>\n",
       "      <td>59</td>\n",
       "      <td>2</td>\n",
       "      <td>1</td>\n",
       "    </tr>\n",
       "    <tr>\n",
       "      <th>4</th>\n",
       "      <td>31</td>\n",
       "      <td>65</td>\n",
       "      <td>4</td>\n",
       "      <td>1</td>\n",
       "    </tr>\n",
       "    <tr>\n",
       "      <th>...</th>\n",
       "      <td>...</td>\n",
       "      <td>...</td>\n",
       "      <td>...</td>\n",
       "      <td>...</td>\n",
       "    </tr>\n",
       "    <tr>\n",
       "      <th>301</th>\n",
       "      <td>75</td>\n",
       "      <td>62</td>\n",
       "      <td>1</td>\n",
       "      <td>1</td>\n",
       "    </tr>\n",
       "    <tr>\n",
       "      <th>302</th>\n",
       "      <td>76</td>\n",
       "      <td>67</td>\n",
       "      <td>0</td>\n",
       "      <td>1</td>\n",
       "    </tr>\n",
       "    <tr>\n",
       "      <th>303</th>\n",
       "      <td>77</td>\n",
       "      <td>65</td>\n",
       "      <td>3</td>\n",
       "      <td>1</td>\n",
       "    </tr>\n",
       "    <tr>\n",
       "      <th>304</th>\n",
       "      <td>78</td>\n",
       "      <td>65</td>\n",
       "      <td>1</td>\n",
       "      <td>0</td>\n",
       "    </tr>\n",
       "    <tr>\n",
       "      <th>305</th>\n",
       "      <td>83</td>\n",
       "      <td>58</td>\n",
       "      <td>2</td>\n",
       "      <td>0</td>\n",
       "    </tr>\n",
       "  </tbody>\n",
       "</table>\n",
       "<p>306 rows × 4 columns</p>\n",
       "</div>"
      ],
      "text/plain": [
       "     Age  Year  Nodes  Survived\n",
       "0     30    64      1         1\n",
       "1     30    62      3         1\n",
       "2     30    65      0         1\n",
       "3     31    59      2         1\n",
       "4     31    65      4         1\n",
       "..   ...   ...    ...       ...\n",
       "301   75    62      1         1\n",
       "302   76    67      0         1\n",
       "303   77    65      3         1\n",
       "304   78    65      1         0\n",
       "305   83    58      2         0\n",
       "\n",
       "[306 rows x 4 columns]"
      ]
     },
     "execution_count": 3,
     "metadata": {},
     "output_type": "execute_result"
    }
   ],
   "source": [
    "haberman"
   ]
  },
  {
   "cell_type": "code",
   "execution_count": 4,
   "id": "db0f4c79-7ba8-4dfd-a34f-84f6df7dc561",
   "metadata": {
    "execution": {
     "iopub.execute_input": "2023-11-02T15:31:07.793830Z",
     "iopub.status.busy": "2023-11-02T15:31:07.793741Z",
     "iopub.status.idle": "2023-11-02T15:31:07.796111Z",
     "shell.execute_reply": "2023-11-02T15:31:07.795770Z"
    }
   },
   "outputs": [],
   "source": [
    "# Slices the features of the dataset\n",
    "X = haberman[['Age', 'Year', 'Nodes']]\n",
    "y = haberman[[\"Survived\"]]"
   ]
  },
  {
   "cell_type": "code",
   "execution_count": 5,
   "id": "8b9e236f-5138-48f8-9956-5057a4e76737",
   "metadata": {
    "execution": {
     "iopub.execute_input": "2023-11-02T15:31:07.797541Z",
     "iopub.status.busy": "2023-11-02T15:31:07.797441Z",
     "iopub.status.idle": "2023-11-02T15:31:07.800469Z",
     "shell.execute_reply": "2023-11-02T15:31:07.800217Z"
    }
   },
   "outputs": [],
   "source": [
    "# Scales the features\n",
    "scaler = StandardScaler()\n",
    "X_scaled = pd.DataFrame(scaler.fit_transform(X), columns=['Age', 'Year', 'Nodes'])"
   ]
  },
  {
   "cell_type": "code",
   "execution_count": 6,
   "id": "a0adc634-db13-4e74-85e4-3c37ac9e53da",
   "metadata": {
    "execution": {
     "iopub.execute_input": "2023-11-02T15:31:07.801930Z",
     "iopub.status.busy": "2023-11-02T15:31:07.801849Z",
     "iopub.status.idle": "2023-11-02T15:31:07.805666Z",
     "shell.execute_reply": "2023-11-02T15:31:07.805375Z"
    }
   },
   "outputs": [
    {
     "data": {
      "text/html": [
       "<div>\n",
       "<style scoped>\n",
       "    .dataframe tbody tr th:only-of-type {\n",
       "        vertical-align: middle;\n",
       "    }\n",
       "\n",
       "    .dataframe tbody tr th {\n",
       "        vertical-align: top;\n",
       "    }\n",
       "\n",
       "    .dataframe thead th {\n",
       "        text-align: right;\n",
       "    }\n",
       "</style>\n",
       "<table border=\"1\" class=\"dataframe\">\n",
       "  <thead>\n",
       "    <tr style=\"text-align: right;\">\n",
       "      <th></th>\n",
       "      <th>Age</th>\n",
       "      <th>Year</th>\n",
       "      <th>Nodes</th>\n",
       "    </tr>\n",
       "  </thead>\n",
       "  <tbody>\n",
       "    <tr>\n",
       "      <th>0</th>\n",
       "      <td>-2.082140</td>\n",
       "      <td>0.353584</td>\n",
       "      <td>-0.421592</td>\n",
       "    </tr>\n",
       "    <tr>\n",
       "      <th>1</th>\n",
       "      <td>-2.082140</td>\n",
       "      <td>-0.262921</td>\n",
       "      <td>-0.142959</td>\n",
       "    </tr>\n",
       "    <tr>\n",
       "      <th>2</th>\n",
       "      <td>-2.082140</td>\n",
       "      <td>0.661837</td>\n",
       "      <td>-0.560909</td>\n",
       "    </tr>\n",
       "    <tr>\n",
       "      <th>3</th>\n",
       "      <td>-1.989426</td>\n",
       "      <td>-1.187680</td>\n",
       "      <td>-0.282275</td>\n",
       "    </tr>\n",
       "    <tr>\n",
       "      <th>4</th>\n",
       "      <td>-1.989426</td>\n",
       "      <td>0.661837</td>\n",
       "      <td>-0.003642</td>\n",
       "    </tr>\n",
       "    <tr>\n",
       "      <th>...</th>\n",
       "      <td>...</td>\n",
       "      <td>...</td>\n",
       "      <td>...</td>\n",
       "    </tr>\n",
       "    <tr>\n",
       "      <th>301</th>\n",
       "      <td>2.090018</td>\n",
       "      <td>-0.262921</td>\n",
       "      <td>-0.421592</td>\n",
       "    </tr>\n",
       "    <tr>\n",
       "      <th>302</th>\n",
       "      <td>2.182732</td>\n",
       "      <td>1.278342</td>\n",
       "      <td>-0.560909</td>\n",
       "    </tr>\n",
       "    <tr>\n",
       "      <th>303</th>\n",
       "      <td>2.275447</td>\n",
       "      <td>0.661837</td>\n",
       "      <td>-0.142959</td>\n",
       "    </tr>\n",
       "    <tr>\n",
       "      <th>304</th>\n",
       "      <td>2.368162</td>\n",
       "      <td>0.661837</td>\n",
       "      <td>-0.421592</td>\n",
       "    </tr>\n",
       "    <tr>\n",
       "      <th>305</th>\n",
       "      <td>2.831735</td>\n",
       "      <td>-1.495933</td>\n",
       "      <td>-0.282275</td>\n",
       "    </tr>\n",
       "  </tbody>\n",
       "</table>\n",
       "<p>306 rows × 3 columns</p>\n",
       "</div>"
      ],
      "text/plain": [
       "          Age      Year     Nodes\n",
       "0   -2.082140  0.353584 -0.421592\n",
       "1   -2.082140 -0.262921 -0.142959\n",
       "2   -2.082140  0.661837 -0.560909\n",
       "3   -1.989426 -1.187680 -0.282275\n",
       "4   -1.989426  0.661837 -0.003642\n",
       "..        ...       ...       ...\n",
       "301  2.090018 -0.262921 -0.421592\n",
       "302  2.182732  1.278342 -0.560909\n",
       "303  2.275447  0.661837 -0.142959\n",
       "304  2.368162  0.661837 -0.421592\n",
       "305  2.831735 -1.495933 -0.282275\n",
       "\n",
       "[306 rows x 3 columns]"
      ]
     },
     "execution_count": 6,
     "metadata": {},
     "output_type": "execute_result"
    }
   ],
   "source": [
    "X_scaled"
   ]
  },
  {
   "cell_type": "code",
   "execution_count": 7,
   "id": "1c3b9ed5-dd0a-4dfa-9791-20dea32559f2",
   "metadata": {
    "execution": {
     "iopub.execute_input": "2023-11-02T15:31:07.807246Z",
     "iopub.status.busy": "2023-11-02T15:31:07.807141Z",
     "iopub.status.idle": "2023-11-02T15:31:07.809555Z",
     "shell.execute_reply": "2023-11-02T15:31:07.809282Z"
    }
   },
   "outputs": [],
   "source": [
    "# Splits the data into train and test sets\n",
    "X_train, X_test, y_train, y_test = train_test_split(\n",
    "    X_scaled, y, test_size=0.2, random_state=123\n",
    ")"
   ]
  },
  {
   "cell_type": "code",
   "execution_count": 8,
   "id": "662f66c0-3b22-4c08-9fe7-85878dece2a5",
   "metadata": {
    "execution": {
     "iopub.execute_input": "2023-11-02T15:31:07.811095Z",
     "iopub.status.busy": "2023-11-02T15:31:07.810994Z",
     "iopub.status.idle": "2023-11-02T15:31:07.814738Z",
     "shell.execute_reply": "2023-11-02T15:31:07.814479Z"
    }
   },
   "outputs": [],
   "source": [
    "# Initializes and fits a perceptron model\n",
    "clf = Perceptron(tol=0.00001, eta0=0.1, max_iter=20000);\n",
    "clf.fit(X_train, np.ravel(y_train));"
   ]
  },
  {
   "cell_type": "code",
   "execution_count": 9,
   "id": "a82a2730-c61f-418d-b9e7-6f04a8484306",
   "metadata": {
    "execution": {
     "iopub.execute_input": "2023-11-02T15:31:07.816239Z",
     "iopub.status.busy": "2023-11-02T15:31:07.816160Z",
     "iopub.status.idle": "2023-11-02T15:31:07.818304Z",
     "shell.execute_reply": "2023-11-02T15:31:07.817997Z"
    }
   },
   "outputs": [],
   "source": [
    "# Creates a list of predictions from the test features\n",
    "y_pred = clf.predict(X_test)"
   ]
  },
  {
   "cell_type": "code",
   "execution_count": 10,
   "id": "0b529154-adaf-4a1c-a249-0732911cc46d",
   "metadata": {
    "execution": {
     "iopub.execute_input": "2023-11-02T15:31:07.819717Z",
     "iopub.status.busy": "2023-11-02T15:31:07.819635Z",
     "iopub.status.idle": "2023-11-02T15:31:07.821649Z",
     "shell.execute_reply": "2023-11-02T15:31:07.821395Z"
    }
   },
   "outputs": [
    {
     "data": {
      "text/plain": [
       "array([1, 1, 1, 0, 1, 1, 1, 1, 1, 0, 1, 0, 1, 0, 0, 1, 0, 0, 1, 0, 0, 1,\n",
       "       0, 0, 0, 1, 1, 1, 0, 1, 1, 0, 1, 1, 0, 1, 1, 1, 1, 1, 0, 1, 1, 1,\n",
       "       0, 1, 1, 1, 1, 1, 1, 1, 0, 1, 0, 1, 1, 0, 1, 1, 0, 1])"
      ]
     },
     "execution_count": 10,
     "metadata": {},
     "output_type": "execute_result"
    }
   ],
   "source": [
    "# Show model predictions\n",
    "y_pred"
   ]
  },
  {
   "cell_type": "code",
   "execution_count": 11,
   "id": "572b0d82-1eca-4eab-87ca-c94162e615e9",
   "metadata": {
    "execution": {
     "iopub.execute_input": "2023-11-02T15:31:07.823135Z",
     "iopub.status.busy": "2023-11-02T15:31:07.823018Z",
     "iopub.status.idle": "2023-11-02T15:31:07.825072Z",
     "shell.execute_reply": "2023-11-02T15:31:07.824818Z"
    }
   },
   "outputs": [
    {
     "data": {
      "text/plain": [
       "array([1, 1, 1, 1, 1, 1, 0, 1, 1, 0, 1, 0, 1, 1, 1, 1, 0, 1, 1, 1, 1, 1,\n",
       "       0, 1, 1, 1, 1, 1, 0, 1, 1, 1, 1, 0, 0, 0, 1, 1, 1, 1, 0, 1, 1, 1,\n",
       "       0, 1, 0, 1, 1, 0, 1, 1, 1, 1, 1, 0, 1, 1, 1, 1, 1, 0])"
      ]
     },
     "execution_count": 11,
     "metadata": {},
     "output_type": "execute_result"
    }
   ],
   "source": [
    "# Show actual values\n",
    "np.ravel(y_test)"
   ]
  },
  {
   "cell_type": "code",
   "execution_count": 12,
   "id": "27c5ef11-dd3b-485b-8592-b89e23b5a449",
   "metadata": {
    "execution": {
     "iopub.execute_input": "2023-11-02T15:31:07.826597Z",
     "iopub.status.busy": "2023-11-02T15:31:07.826512Z",
     "iopub.status.idle": "2023-11-02T15:31:07.828478Z",
     "shell.execute_reply": "2023-11-02T15:31:07.828218Z"
    }
   },
   "outputs": [
    {
     "name": "stdout",
     "output_type": "stream",
     "text": [
      "[[-0.20821401 -0.0879427  -0.30686072]]\n",
      "[0.1]\n"
     ]
    }
   ],
   "source": [
    "# Finds the weights\n",
    "print(clf.coef_)\n",
    "print(clf.intercept_)"
   ]
  },
  {
   "cell_type": "code",
   "execution_count": 13,
   "id": "f6be00fa-0e06-4c7c-866d-7a3121b82e74",
   "metadata": {
    "execution": {
     "iopub.execute_input": "2023-11-02T15:31:07.829856Z",
     "iopub.status.busy": "2023-11-02T15:31:07.829777Z",
     "iopub.status.idle": "2023-11-02T15:31:07.831921Z",
     "shell.execute_reply": "2023-11-02T15:31:07.831675Z"
    }
   },
   "outputs": [
    {
     "data": {
      "text/plain": [
       "0.6774193548387096"
      ]
     },
     "execution_count": 13,
     "metadata": {},
     "output_type": "execute_result"
    }
   ],
   "source": [
    "# Finds the accuracy score\n",
    "accuracy_score(y_pred, y_test)"
   ]
  },
  {
   "cell_type": "code",
   "execution_count": 14,
   "id": "666da360-7737-491b-a9f1-aae07201e42a",
   "metadata": {
    "execution": {
     "iopub.execute_input": "2023-11-02T15:31:07.833221Z",
     "iopub.status.busy": "2023-11-02T15:31:07.833145Z",
     "iopub.status.idle": "2023-11-02T15:31:07.907428Z",
     "shell.execute_reply": "2023-11-02T15:31:07.907102Z"
    }
   },
   "outputs": [
    {
     "data": {
      "text/plain": [
       "<AxesSubplot: >"
      ]
     },
     "execution_count": 14,
     "metadata": {},
     "output_type": "execute_result"
    },
    {
     "data": {
      "image/png": "[encoded data removed]",
      "text/plain": [
       "<Figure size 640x480 with 2 Axes>"
      ]
     },
     "metadata": {},
     "output_type": "display_data"
    }
   ],
   "source": [
    "# Displays a heatmap for the confusion matrix\n",
    "sns.heatmap(confusion_matrix(y_pred, y_test), annot=True)"
   ]
  },
  {
   "cell_type": "code",
   "execution_count": 15,
   "id": "a90abaac-d582-4021-ba4a-bfdde143b1f5",
   "metadata": {
    "execution": {
     "iopub.execute_input": "2023-11-02T15:31:07.909236Z",
     "iopub.status.busy": "2023-11-02T15:31:07.909146Z",
     "iopub.status.idle": "2023-11-02T15:31:07.926537Z",
     "shell.execute_reply": "2023-11-02T15:31:07.926203Z"
    }
   },
   "outputs": [
    {
     "name": "stdout",
     "output_type": "stream",
     "text": [
      "              precision    recall  f1-score   support\n",
      "\n",
      "           0       0.53      0.38      0.44        21\n",
      "           1       0.72      0.83      0.77        41\n",
      "\n",
      "    accuracy                           0.68        62\n",
      "   macro avg       0.63      0.61      0.61        62\n",
      "weighted avg       0.66      0.68      0.66        62\n",
      "\n"
     ]
    }
   ],
   "source": [
    "# Displays the classification report for the model\n",
    "print(classification_report(y_pred, y_test))"
   ]
  },
  {
   "cell_type": "markdown",
   "id": "bc021b4d-1a4c-43f7-b27c-39565d0be081",
   "metadata": {},
   "source": [
    "## challenge activity|12.2.2: Single-layer perceptron using scikit-learn."
   ]
  },
  {
   "cell_type": "markdown",
   "id": "5b7106ff-75d1-45df-ab0e-85b3316198d9",
   "metadata": {},
   "source": [
    "## 1)\n",
    "**This dataset contains 13 health-related attributes from 100 patients and one attribute denoting whether or not the patient has heart disease.**\n",
    "  *  **Initialize a perceptron model pModel with a maximum of 1500 epochs and a learning rate of 0.2.**\n",
    "\n",
    "**The code contains all imports, loads the dataset, splits the dataset into test and train data, fits the model, and prints the weights of the fitted perceptron model.**"
   ]
  },
  {
   "cell_type": "code",
   "execution_count": 11,
   "id": "424e180a-0c32-4a94-8db1-b7643b4b131a",
   "metadata": {},
   "outputs": [],
   "source": [
    "# Import packages and functions\n",
    "import numpy as np\n",
    "import pandas as pd"
   ]
  },
  {
   "cell_type": "code",
   "execution_count": 13,
   "id": "22a0c557-4483-4a26-97e2-0b0185434058",
   "metadata": {},
   "outputs": [],
   "source": [
    "from sklearn.linear_model import Perceptron\n",
    "from sklearn.model_selection import train_test_split\n",
    "from sklearn.preprocessing import StandardScaler"
   ]
  },
  {
   "cell_type": "code",
   "execution_count": 15,
   "id": "d6542250-93be-4ab6-9234-0234ecafa6a7",
   "metadata": {},
   "outputs": [
    {
     "data": {
      "text/html": [
       "<div>\n",
       "<style scoped>\n",
       "    .dataframe tbody tr th:only-of-type {\n",
       "        vertical-align: middle;\n",
       "    }\n",
       "\n",
       "    .dataframe tbody tr th {\n",
       "        vertical-align: top;\n",
       "    }\n",
       "\n",
       "    .dataframe thead th {\n",
       "        text-align: right;\n",
       "    }\n",
       "</style>\n",
       "<table border=\"1\" class=\"dataframe\">\n",
       "  <thead>\n",
       "    <tr style=\"text-align: right;\">\n",
       "      <th></th>\n",
       "      <th>age</th>\n",
       "      <th>sex</th>\n",
       "      <th>cp</th>\n",
       "      <th>trestbps</th>\n",
       "      <th>chol</th>\n",
       "      <th>fbs</th>\n",
       "      <th>restecg</th>\n",
       "      <th>thalach</th>\n",
       "      <th>exang</th>\n",
       "      <th>oldpeak</th>\n",
       "      <th>slope</th>\n",
       "      <th>ca</th>\n",
       "      <th>thal</th>\n",
       "      <th>target</th>\n",
       "    </tr>\n",
       "  </thead>\n",
       "  <tbody>\n",
       "    <tr>\n",
       "      <th>0</th>\n",
       "      <td>68</td>\n",
       "      <td>0</td>\n",
       "      <td>2</td>\n",
       "      <td>120</td>\n",
       "      <td>211</td>\n",
       "      <td>0</td>\n",
       "      <td>0</td>\n",
       "      <td>115</td>\n",
       "      <td>0</td>\n",
       "      <td>1.5</td>\n",
       "      <td>1</td>\n",
       "      <td>0</td>\n",
       "      <td>2</td>\n",
       "      <td>1</td>\n",
       "    </tr>\n",
       "    <tr>\n",
       "      <th>1</th>\n",
       "      <td>67</td>\n",
       "      <td>0</td>\n",
       "      <td>2</td>\n",
       "      <td>115</td>\n",
       "      <td>564</td>\n",
       "      <td>0</td>\n",
       "      <td>0</td>\n",
       "      <td>160</td>\n",
       "      <td>0</td>\n",
       "      <td>1.6</td>\n",
       "      <td>1</td>\n",
       "      <td>0</td>\n",
       "      <td>3</td>\n",
       "      <td>1</td>\n",
       "    </tr>\n",
       "    <tr>\n",
       "      <th>2</th>\n",
       "      <td>54</td>\n",
       "      <td>1</td>\n",
       "      <td>0</td>\n",
       "      <td>110</td>\n",
       "      <td>206</td>\n",
       "      <td>0</td>\n",
       "      <td>0</td>\n",
       "      <td>108</td>\n",
       "      <td>1</td>\n",
       "      <td>0.0</td>\n",
       "      <td>1</td>\n",
       "      <td>1</td>\n",
       "      <td>2</td>\n",
       "      <td>0</td>\n",
       "    </tr>\n",
       "    <tr>\n",
       "      <th>3</th>\n",
       "      <td>60</td>\n",
       "      <td>1</td>\n",
       "      <td>0</td>\n",
       "      <td>130</td>\n",
       "      <td>206</td>\n",
       "      <td>0</td>\n",
       "      <td>0</td>\n",
       "      <td>132</td>\n",
       "      <td>1</td>\n",
       "      <td>2.4</td>\n",
       "      <td>1</td>\n",
       "      <td>2</td>\n",
       "      <td>3</td>\n",
       "      <td>0</td>\n",
       "    </tr>\n",
       "    <tr>\n",
       "      <th>4</th>\n",
       "      <td>66</td>\n",
       "      <td>0</td>\n",
       "      <td>2</td>\n",
       "      <td>146</td>\n",
       "      <td>278</td>\n",
       "      <td>0</td>\n",
       "      <td>0</td>\n",
       "      <td>152</td>\n",
       "      <td>0</td>\n",
       "      <td>0.0</td>\n",
       "      <td>1</td>\n",
       "      <td>1</td>\n",
       "      <td>2</td>\n",
       "      <td>1</td>\n",
       "    </tr>\n",
       "  </tbody>\n",
       "</table>\n",
       "</div>"
      ],
      "text/plain": [
       "   age  sex  cp  trestbps  chol  fbs  restecg  thalach  exang  oldpeak  slope  \\\n",
       "0   68    0   2       120   211    0        0      115      0      1.5      1   \n",
       "1   67    0   2       115   564    0        0      160      0      1.6      1   \n",
       "2   54    1   0       110   206    0        0      108      1      0.0      1   \n",
       "3   60    1   0       130   206    0        0      132      1      2.4      1   \n",
       "4   66    0   2       146   278    0        0      152      0      0.0      1   \n",
       "\n",
       "   ca  thal  target  \n",
       "0   0     2       1  \n",
       "1   0     3       1  \n",
       "2   1     2       0  \n",
       "3   2     3       0  \n",
       "4   1     2       1  "
      ]
     },
     "execution_count": 15,
     "metadata": {},
     "output_type": "execute_result"
    }
   ],
   "source": [
    "# Load the dataset\n",
    "heart = pd.read_csv('heart.csv')\n",
    "heart.head()"
   ]
  },
  {
   "cell_type": "code",
   "execution_count": null,
   "id": "52600c10-1f20-4940-86d8-2281eff55865",
   "metadata": {},
   "outputs": [],
   "source": [
    "# Slices the features of the dataset\n",
    "X = heart[['trestbps', 'age', 'thalach']]\n",
    "y = heart[['target']]\n",
    "\n",
    "# Scales the features\n",
    "scaler = StandardScaler()\n",
    "XScaled = pd.DataFrame(scaler.fit_transform(X), columns=['trestbps','age','thalach'])\n",
    "\n",
    "# Splits the data into train and test sets\n",
    "XTrain, XTest, yTrain, yTest = train_test_split(XScaled, y, test_size=0.2, random_state=123)\n",
    "\n",
    "# Initializes and fits a perceptron model\n",
    "pModel = # Your code goes here\n",
    "pModel.fit(XTrain, np.ravel(yTrain))\n",
    "\n",
    "print(pModel.coef_)\n",
    "print(pModel.intercept_)"
   ]
  },
  {
   "cell_type": "markdown",
   "id": "655ca86d-6e99-45ff-8ef7-39983eb6d999",
   "metadata": {},
   "source": [
    "## 2)\n",
    "**This dataset contains 13 health-related attributes from 100 patients and one attribute denoting whether or not the patient has heart disease.**\n",
    "\n",
    "* **Fit a perceptron model to the training data.**\n",
    "* **Display the weights for the input features and the bias term for the fitted model, in that order.**\n",
    "\n",
    "**The code contains all imports, loads the dataset, splits the data into test and train data, and initializes the model.**"
   ]
  },
  {
   "cell_type": "code",
   "execution_count": null,
   "id": "c58b22ca-21ef-434a-a8ea-c26e7038a8c2",
   "metadata": {},
   "outputs": [],
   "source": [
    "\n",
    "# Initializes a perceptron model\n",
    "pModel = Perceptron(eta0=0.25, max_iter=1000)\n",
    "\n",
    "# Fits a perceptron model\n",
    "# Your code goes here\n",
    "\n",
    "# Finds the weights\n",
    "print(# Your code goes here)\n",
    "print(# Your code goes here)"
   ]
  },
  {
   "cell_type": "markdown",
   "id": "45041024-8cdd-4342-9610-ffda86a48220",
   "metadata": {},
   "source": [
    "## 3)\n",
    "**This dataset contains 13 health-related attributes from 100 patients and one attribute denoting whether or not the patient has heart disease.**\n",
    "\n",
    "* **Predict the target values for a test set.**\n",
    "* **Print the accuracy score.**\n",
    "  \n",
    "**The code contains all imports, loads the dataset, splits the dataset into test and train data, initializes the model, and fits the model.**"
   ]
  },
  {
   "cell_type": "code",
   "execution_count": null,
   "id": "57cb4cc0-599d-4bb4-881d-6cedb0f654ea",
   "metadata": {},
   "outputs": [],
   "source": [
    "\n",
    "# Initializes a perceptron model\n",
    "pModel = Perceptron(eta0=0.1, max_iter=1500)\n",
    "\n",
    "# Fits a perceptron model\n",
    "pModel.fit(XTrain, np.ravel(yTrain))\n",
    "\n",
    "# Creates a list of predictions from the test features\n",
    "yPredicted = # Your code goes here\n",
    "\n",
    "# Prints accuracy score\n",
    "# Your code goes here"
   ]
  },
  {
   "cell_type": "markdown",
   "id": "ff176133-cb63-4343-a40e-8407a74c2c5c",
   "metadata": {},
   "source": [
    "## Solution"
   ]
  },
  {
   "cell_type": "markdown",
   "id": "4641a096-fd8e-4331-b12e-a709ba88c06e",
   "metadata": {},
   "source": [
    "1) pModel = Perceptron(eta0=0.2, max_iter=1500\n",
    "\n",
    "2) pModel.fit(XTrain, np.ravel(yTrain))\n",
    "\n",
    "    # Finds the weights\n",
    "    print(pModel.coef_)\n",
    "    print(pModel.intercept_)\n",
    "\n",
    "3) yPredicted = pModel.predict(XTest)\n",
    "\n",
    "    # Prints accuracy score\n",
    "    print(accuracy_score(yPredicted, yTest))\n",
    "\n"
   ]
  },
  {
   "cell_type": "code",
   "execution_count": null,
   "id": "590a98c5-8f23-44a8-8f0b-679bc2d5d457",
   "metadata": {},
   "outputs": [],
   "source": []
  }
 ],
 "metadata": {
  "kernelspec": {
   "display_name": "Python 3 (ipykernel)",
   "language": "python",
   "name": "python3"
  },
  "language_info": {
   "codemirror_mode": {
    "name": "ipython",
    "version": 3
   },
   "file_extension": ".py",
   "mimetype": "text/x-python",
   "name": "python",
   "nbconvert_exporter": "python",
   "pygments_lexer": "ipython3",
   "version": "3.12.4"
  }
 },
 "nbformat": 4,
 "nbformat_minor": 5
}
