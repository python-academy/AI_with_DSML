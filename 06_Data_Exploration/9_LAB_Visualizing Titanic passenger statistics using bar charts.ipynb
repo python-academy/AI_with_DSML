{
 "cells": [
  {
   "cell_type": "markdown",
   "id": "f00ec512-0e92-4b77-8c58-3bdfb0ba1f0b",
   "metadata": {},
   "source": [
    "## lab activity 6.9.1: LAB: Visualizing Titanic passenger statistics using bar charts"
   ]
  },
  {
   "cell_type": "markdown",
   "id": "b683e5f8-e900-4556-95bb-649b678d3904",
   "metadata": {},
   "source": [
    "**The titanic dataset contains data on 887 Titanic passengers, including each passenger's survival status, embarkation location, cabin class, and sex. Write a program that performs the following tasks:**\n",
    "\n",
    "* **Load the dataset in titanic.csv as titanic.**\n",
    "* **Create a new data frame, firstSouth, by subsetting titanic to include instances where a passenger is in the first class cabin (pclass feature is 1) and boarded from Southampton (embarked feature is S).**\n",
    "* **Create a new data frame, secondThird, by subsetting titanic to include instances where a passenger is either in the second (pclass feature is 2) or third class (pclass feature is 3) cabin.**\n",
    "* **Create bar charts for the following:**\n",
    " * **Passengers in first class who embarked in Southampton grouped by sex.**\n",
    " * **Passengers in second and third class grouped by survival status.**\n",
    "   \n",
    "**The output should be:**"
   ]
  },
  {
   "cell_type": "raw",
   "id": "3d9222f9-2917-4885-be68-df3e46c0dfab",
   "metadata": {},
   "source": [
    "  survived  pclass     sex   age  ...  deck  embark_town  alive  alone\n",
    "3          1       1  female  35.0  ...     C  Southampton    yes  False\n",
    "6          0       1    male  54.0  ...     E  Southampton     no   True\n",
    "11         1       1  female  58.0  ...     C  Southampton    yes   True\n",
    "23         1       1    male  28.0  ...     A  Southampton    yes   True\n",
    "27         0       1    male  19.0  ...     C  Southampton     no  False\n",
    "\n",
    "[5 rows x 15 columns]\n",
    "   survived  pclass     sex   age  ...  deck  embark_town  alive  alone\n",
    "0         0       3    male  22.0  ...   NaN  Southampton     no  False\n",
    "2         1       3  female  26.0  ...   NaN  Southampton    yes   True\n",
    "4         0       3    male  35.0  ...   NaN  Southampton     no   True\n",
    "5         0       3    male   NaN  ...   NaN   Queenstown     no   True\n",
    "7         0       3    male   2.0  ...   NaN  Southampton     no  False\n",
    "\n",
    "[5 rows x 15 columns]"
   ]
  },
  {
   "cell_type": "code",
   "execution_count": null,
   "id": "4706a90b-bd67-4dab-b6b1-95317224e833",
   "metadata": {},
   "outputs": [],
   "source": []
  },
  {
   "cell_type": "code",
   "execution_count": null,
   "id": "69b9db19-a833-4eb9-aa06-7abe70508321",
   "metadata": {},
   "outputs": [],
   "source": [
    "import pandas as pd\n",
    "import seaborn as sns\n",
    "import matplotlib.pyplot as plt\n",
    "\n",
    "# Load titanic.csv\n",
    "titanic = # Your code here\n",
    "\n",
    "# Subset the titanic dataset to include first class passengers who embarked in Southampton\n",
    "firstSouth = # Your code here\n",
    "\n",
    "# Subset the titanic dataset to include either second or third class passenger\n",
    "secondThird = # Your code here\n",
    "\n",
    "print(firstSouth.head())\n",
    "print(secondThird.head())\n",
    "\n",
    "# Create a bar chart for the first class passengers who embarked in Southampton grouped by sex\n",
    "# Your code here\n",
    "plt.savefig('titanic_bar_1.png')\n",
    "\n",
    "# Create a bar chart for the second and third class passengers grouped by survival status\n",
    "# Your code here\n",
    "plt.legend(labels=[\"0\",\"1\"], title = \"survived\")\n",
    "plt.savefig('titanic_bar_2.png')"
   ]
  }
 ],
 "metadata": {
  "kernelspec": {
   "display_name": "Python [conda env:base] *",
   "language": "python",
   "name": "conda-base-py"
  },
  "language_info": {
   "codemirror_mode": {
    "name": "ipython",
    "version": 3
   },
   "file_extension": ".py",
   "mimetype": "text/x-python",
   "name": "python",
   "nbconvert_exporter": "python",
   "pygments_lexer": "ipython3",
   "version": "3.12.7"
  }
 },
 "nbformat": 4,
 "nbformat_minor": 5
}
