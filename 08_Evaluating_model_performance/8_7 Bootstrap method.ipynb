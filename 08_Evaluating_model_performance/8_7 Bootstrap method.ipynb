{
 "cells": [
  {
   "cell_type": "markdown",
   "id": "5a1fb161-7577-4ef2-a3e5-8c8bb1db7f1e",
   "metadata": {},
   "source": [
    "## Try 8.7.1: Bootstrap method in Python.\n",
    "\n",
    "\n",
    "**The code below fits a linear model to the \"bad drivers\" dataset and calculates the mean squared error for 30 bootstrap samples.**\n",
    "  * **Click the double-right arrow to restart the kernel and run all cells.**\n",
    "  * **Examine the code below.**\n",
    "  * **Note the distribution of mean squared errors.**"
   ]
  },
  {
   "cell_type": "code",
   "execution_count": 4,
   "id": "9deef928-b76e-42f3-b97c-35b0f0ec65e7",
   "metadata": {},
   "outputs": [],
   "source": [
    "# Import packages and functions\n",
    "\n",
    "import numpy as np\n",
    "import pandas as pd\n",
    "import matplotlib.pyplot as plt"
   ]
  },
  {
   "cell_type": "code",
   "execution_count": 6,
   "id": "99ac371a-404a-4c7a-82ce-289c1bc9a5ca",
   "metadata": {},
   "outputs": [],
   "source": [
    "from sklearn.utils import resample\n",
    "from sklearn.linear_model import LinearRegression\n",
    "from sklearn.metrics import mean_squared_error"
   ]
  },
  {
   "cell_type": "code",
   "execution_count": 8,
   "id": "6f79884b-42b5-483d-8147-88c5af6883ab",
   "metadata": {},
   "outputs": [],
   "source": [
    "# Load data set\n",
    "badDrivers = pd.read_csv('bad-drivers.csv')"
   ]
  },
  {
   "cell_type": "code",
   "execution_count": 10,
   "id": "1190cd00-4b23-47e7-836a-4b6dfa367c17",
   "metadata": {},
   "outputs": [],
   "source": [
    "# Create bootstrap samples and collect errors\n",
    "\n",
    "bootstrapErrors = []\n",
    "for i in range(0, 30):\n",
    "    # Create the bootstrap sample and the out-of-bag sample\n",
    "    boot = resample(badDrivers, replace=True, n_samples=51)\n",
    "    oob = badDrivers[~badDrivers.index.isin(boot.index)]\n",
    "\n",
    "    # Fit a linear model to the bootstrap sample\n",
    "    XBoot = boot[\n",
    "        ['Losses incurred by insurance companies for collisions per insured driver ($)']\n",
    "    ].values.reshape(-1, 1)\n",
    "    yBoot = boot[['Car Insurance Premiums ($)']].values.reshape(-1, 1)\n",
    "    linModel = LinearRegression()\n",
    "    linModel.fit(XBoot, yBoot)\n",
    "\n",
    "    # Predict y values for the out-of-bag sample\n",
    "    XOob = oob[\n",
    "        ['Losses incurred by insurance companies for collisions per insured driver ($)']\n",
    "    ].values.reshape(-1, 1)\n",
    "    YOob = oob[['Car Insurance Premiums ($)']].values.reshape(-1, 1)\n",
    "    YOobPredicted = linModel.predict(XOob)\n",
    "\n",
    "    # Calculate the error\n",
    "    bootError = mean_squared_error(YOob, YOobPredicted)\n",
    "    bootstrapErrors.append(bootError)"
   ]
  },
  {
   "cell_type": "code",
   "execution_count": 12,
   "id": "61c170e5-9d3f-4444-ade5-cd5147e24cef",
   "metadata": {},
   "outputs": [
    {
     "data": {
      "text/plain": [
       "20721.548290173134"
      ]
     },
     "execution_count": 12,
     "metadata": {},
     "output_type": "execute_result"
    }
   ],
   "source": [
    "# Calculate the mean of the errors\n",
    "np.mean(bootstrapErrors)"
   ]
  },
  {
   "cell_type": "code",
   "execution_count": 14,
   "id": "7133f4c6-879a-46d0-a948-55b416e28436",
   "metadata": {},
   "outputs": [
    {
     "data": {
      "text/plain": [
       "5235.5841674760595"
      ]
     },
     "execution_count": 14,
     "metadata": {},
     "output_type": "execute_result"
    }
   ],
   "source": [
    "# Calculate the standard deviation of the errors\n",
    "np.std(bootstrapErrors)"
   ]
  },
  {
   "cell_type": "code",
   "execution_count": 16,
   "id": "5c2bfae8-127f-484d-a19a-3c9b3581921a",
   "metadata": {},
   "outputs": [
    {
     "data": {
      "image/png": "[encoded data removed]",
      "text/plain": [
       "<Figure size 640x480 with 1 Axes>"
      ]
     },
     "metadata": {},
     "output_type": "display_data"
    }
   ],
   "source": [
    "# Plot the errors\n",
    "plt.plot(bootstrapErrors, np.zeros_like(bootstrapErrors), '.')\n",
    "plt.xlabel('Bootstrap errors (MSE)', fontsize=14)\n",
    "plt.gca().axes.yaxis.set_ticks([]);"
   ]
  },
  {
   "cell_type": "markdown",
   "id": "98cbdfb0-72b3-430f-b657-049b59b229bf",
   "metadata": {},
   "source": [
    "## challenge activity 8.7.2: Bootstrap method using scikit-learn."
   ]
  },
  {
   "cell_type": "markdown",
   "id": "fc8270eb-3d68-4d42-b499-ebafd5af8672",
   "metadata": {},
   "source": [
    "## 1) Researchers collected measurements from loblolly pines.\n",
    "\n",
    "* **Generate 45 bootstrap samples of size 37 using the resample() method with the following parameters: the dataset, replace set to True, n_samples set to the specified bootstrap sample size, and random_state set to rng.**\n",
    "\n",
    "**The code provided contains all imports, loads the dataset, uses a loop to generate 45 out-of-bag samples based on the bootstrap samples, initializes and fits the model, and calculates and prints the mean and standard deviation of the bootstrap errors.**"
   ]
  },
  {
   "cell_type": "code",
   "execution_count": null,
   "id": "03306f95-98fe-4e33-9b7c-312e6fd50bf8",
   "metadata": {},
   "outputs": [],
   "source": [
    "# Import packages and functions\n",
    "\n",
    "from sklearn.utils import resample\n",
    "from sklearn.linear_model import LinearRegression\n",
    "from sklearn.metrics import mean_squared_error\n",
    "\n",
    "rng = np.random.RandomState(50)\n",
    "\n",
    "# Load the dataset\n",
    "pines = pd.read_csv('pinesSample.csv')\n",
    "\n",
    "# Initialize the errors array\n",
    "bootstrapErrors = []\n",
    "\n",
    "# Generate the bootstrap samples\n",
    "for i in range(0, 45):\n",
    "    # Create the bootstrap sample and the out-of-bag sample\n",
    "    bootstrap = # Your code goes here\n",
    "    oob = pines[~pines.index.isin(bootstrap.index)]\n",
    "    \n",
    "    # Fit a linear model to the bootstrap sample\n",
    "    XBoot = bootstrap[['age']]\n",
    "    yBoot = bootstrap[['height']]\n",
    "    linModel = LinearRegression()\n",
    "    linModel.fit(XBoot, yBoot)\n",
    "    \n",
    "    # Make predictions\n",
    "    # Predict y values for the out-of-bag sample\n",
    "    XOob = oob[['age']]\n",
    "    YOob = oob[['height']]\n",
    "    YOobPredicted = linModel.predict(XOob)\n",
    "    \n",
    "    # Calculate and store the error\n",
    "    bootError = mean_squared_error(YOob, YOobPredicted)\n",
    "    bootstrapErrors.append(bootError)\n",
    "\n",
    "# Evaluate and print accuracy\n",
    "print('Mean of bootstrap errors =', np.mean(bootstrapErrors))\n",
    "print('Standard deviation of bootstrap errors =', np.std(bootstrapErrors))"
   ]
  },
  {
   "cell_type": "markdown",
   "id": "e5b5f1e0-86cb-4943-880b-f08eaf86b4c0",
   "metadata": {},
   "source": [
    "## 2) Researchers collected measurements from loblolly pines.\n",
    "\n",
    "* **Generate out-of-bag samples using the dataset without the data used for the bootstrap sample. The format is: datasetName[NOT datasetName.index.isin(bootstrapName.index)].**\n",
    "\n",
    "  \n",
    "**The code provided contains all imports, loads the dataset, uses a loop to generate 30 bootstrap samples of size 28, initializes and fits the model, and calculates and prints the mean and standard deviation of the bootstrap errors.**"
   ]
  },
  {
   "cell_type": "code",
   "execution_count": null,
   "id": "12a647b9-617e-4d9a-a3cd-32e3afa7c61e",
   "metadata": {},
   "outputs": [],
   "source": [
    "# Import packages and functions\n",
    "\n",
    "\n",
    "rng = np.random.RandomState(11)\n",
    "\n",
    "# Load the dataset\n",
    "loblollyPine = pd.read_csv('loblollyPineSample.csv')\n",
    "\n",
    "# Initialize the errors array\n",
    "bootstrapErrors = []\n",
    "\n",
    "# Generate the bootstrap samples\n",
    "for i in range(0, 30):\n",
    "    # Create the bootstrap sample and the out-of-bag sample\n",
    "    bootstrap = resample(loblollyPine, replace=True, n_samples=28, random_state=rng)\n",
    "    oob = # Your code goes here\n",
    "    \n",
    "    # Fit a linear model to the bootstrap sample\n",
    "    XBoot = bootstrap[['age']]\n",
    "    yBoot = bootstrap[['height']]\n",
    "    linModel = LinearRegression()\n",
    "    linModel.fit(XBoot, yBoot)\n",
    "    \n",
    "    # Make predictions\n",
    "    # Predict y values for the out-of-bag sample\n",
    "    XOob = oob[['age']]\n",
    "    YOob = oob[['height']]\n",
    "    YOobPredicted = linModel.predict(XOob)\n",
    "    \n",
    "    # Calculate and store the error\n",
    "    bootError = mean_squared_error(YOob, YOobPredicted)\n",
    "    bootstrapErrors.append(bootError)\n",
    "\n",
    "# Evaluate and print accuracy\n",
    "print('Mean of bootstrap errors =', np.mean(bootstrapErrors))\n",
    "print('Standard deviation of bootstrap errors =', np.std(bootstrapErrors))"
   ]
  },
  {
   "cell_type": "markdown",
   "id": "83bb4e51-d9df-4bcd-b88a-94eeaf9127fe",
   "metadata": {},
   "source": [
    "## 3)\n",
    "**Researchers collected measurements from loblolly pines.**\n",
    "\n",
    "* **Generate 30 bootstrap samples of size 44 using the resample() method with the following parameters: the dataset, replace set to True, n_samples set to the specified bootstrap sample size, and random_state set to rng.**\n",
    "\n",
    "* **Generate out-of-bag samples using the dataset without the data used for the bootstrap sample. The format is: datasetName [NOT datasetName.index.isin(bootstrapName.index)].**\n",
    "\n",
    "**The code provided contains all imports, loads the dataset, uses a loop to initialize and fit the bootstrap sample models, and calculates and prints the mean and standard deviation of the bootstrap errors.**"
   ]
  },
  {
   "cell_type": "code",
   "execution_count": null,
   "id": "7af9637f-e60a-4153-91ec-f42bd64d083c",
   "metadata": {},
   "outputs": [],
   "source": [
    "# Import packages and functions\n",
    "\n",
    "\n",
    "rng = np.random.RandomState(32)\n",
    "\n",
    "# Load the dataset\n",
    "loblolly = pd.read_csv('loblollySample.csv')\n",
    "\n",
    "# Initialize the errors array\n",
    "bootstrapErrors = []\n",
    "\n",
    "# Generate the bootstrap samples\n",
    "for i in range(0, 30):\n",
    "    # Create the bootstrap sample and the out-of-bag sample\n",
    "    \n",
    "    # Your code goes here \n",
    "    bootSample = \n",
    "    oob = \n",
    "    \n",
    "    # Fit a linear model to the bootstrap sample\n",
    "    XBoot = bootSample[['age']]\n",
    "    yBoot = bootSample[['height']]\n",
    "    linModel = LinearRegression()\n",
    "    linModel.fit(XBoot, yBoot)\n",
    "    \n",
    "    # Make predictions\n",
    "    # Predict y values for the out-of-bag sample\n",
    "    XOob = oob[['age']]\n",
    "    YOob = oob[['height']]\n",
    "    YOobPredicted = linModel.predict(XOob)\n",
    "    \n",
    "    # Calculate and store the error\n",
    "    bootError = mean_squared_error(YOob, YOobPredicted)\n",
    "    bootstrapErrors.append(bootError)\n",
    "\n",
    "# Evaluate and print accuracy\n",
    "print('Mean of bootstrap errors =', np.mean(bootstrapErrors))\n",
    "print('Standard deviation of bootstrap errors =', np.std(bootstrapErrors))"
   ]
  }
 ],
 "metadata": {
  "kernelspec": {
   "display_name": "Python 3 (ipykernel)",
   "language": "python",
   "name": "python3"
  },
  "language_info": {
   "codemirror_mode": {
    "name": "ipython",
    "version": 3
   },
   "file_extension": ".py",
   "mimetype": "text/x-python",
   "name": "python",
   "nbconvert_exporter": "python",
   "pygments_lexer": "ipython3",
   "version": "3.12.4"
  }
 },
 "nbformat": 4,
 "nbformat_minor": 5
}
