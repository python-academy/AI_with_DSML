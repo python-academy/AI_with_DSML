{
 "cells": [
  {
   "cell_type": "markdown",
   "id": "1930c2b4-8183-468d-bf3e-9dd61a86bf57",
   "metadata": {},
   "source": [
    "**1) Researchers collected measurements from loblolly pines.**\n",
    "\n",
    "* **Set the proportions for the training dataset to 70%, validation dataset to 15%, and testing dataset to 15%.**\n",
    "\n",
    "\n",
    "**The code provided contains all imports, loads the dataset, splits the dataset into training, validation, and test datasets, prints the sizes of these samples, and prints the test dataset.**\n"
   ]
  },
  {
   "cell_type": "code",
   "execution_count": 1,
   "id": "65771809-4f6d-4dd5-bdc8-ed02e7ddf004",
   "metadata": {},
   "outputs": [
    {
     "name": "stdout",
     "output_type": "stream",
     "text": [
      "original dataset: 50 \n",
      "train_data: 34 \n",
      "validation_data: 8 \n",
      "\n",
      "test_data: 8 \n",
      "     height  age\n",
      "49   10.89    5\n",
      "40   49.12   20\n",
      "38   63.05   25\n",
      "23   25.45   10\n",
      "7    53.17   20\n",
      "0    64.10   25\n",
      "6    27.16   10\n",
      "34   60.92   25\n"
     ]
    }
   ],
   "source": [
    "# Import packages and functions\n",
    "import numpy as np\n",
    "import pandas as pd\n",
    "\n",
    "from sklearn.model_selection import train_test_split\n",
    "\n",
    "rng = np.random.RandomState(6)\n",
    "\n",
    "# Load the dataset\n",
    "loblolly = pd.read_csv('loblollySample.csv')\n",
    "\n",
    "# Set proportions of train-validate-test split\n",
    "\n",
    "# Your code goes here \n",
    "trainPropPercent = 0.7\n",
    "validatePropPercent = 0.15\n",
    "testPropPercent = 0.15\n",
    "\n",
    "# Split dataset into training/validation data and testing data\n",
    "trainAndValidate, testDataPercent = train_test_split(loblolly, test_size=testPropPercent, random_state=rng)\n",
    "\n",
    "# Split training/validation data into training data and validation data\n",
    "trainDataPercent, validateDataPercent = train_test_split(trainAndValidate, train_size=trainPropPercent/(trainPropPercent+validatePropPercent), random_state=rng)\n",
    "\n",
    "# Print split sizes and test dataset\n",
    "print('original dataset:', len(loblolly), \n",
    "    '\\ntrain_data:', len(trainDataPercent), \n",
    "    '\\nvalidation_data:', len(validateDataPercent), \n",
    "    '\\n\\ntest_data:', len(testDataPercent), \n",
    "    '\\n', testDataPercent)"
   ]
  },
  {
   "cell_type": "markdown",
   "id": "b7dfd1ba-f27a-47f6-a243-da7e535aa30f",
   "metadata": {},
   "source": [
    "**2) Researchers collected measurements from loblolly pines.**\n",
    "\n",
    "* **Split the dataset into training/validation and test datasets using train_test_split() with the following parameters:**\n",
    "\n",
    "   * **the original dataframe**\n",
    "\n",
    "   * **the test_size parameter set to the test proportion**\n",
    "\n",
    "   * **the random_state parameter set to rng**\n",
    "\n",
    "**The code provided contains all imports, loads the dataset, sets the proportions of training, validation, and test data, splits the training/validation dataset into training and validation datasets, prints the sizes of these samples, and prints the test dataset.**"
   ]
  },
  {
   "cell_type": "code",
   "execution_count": null,
   "id": "dd8072d5-dbf9-4418-82cc-4cceb3e22801",
   "metadata": {},
   "outputs": [],
   "source": [
    "# Import packages and functions\n",
    "import pandas as pd\n",
    "import numpy as np\n",
    "from sklearn.model_selection import train_test_split\n",
    "\n",
    "rng = np.random.RandomState(10)\n",
    "\n",
    "# Load the dataset\n",
    "pines = pd.read_csv('pinesSample.csv')\n",
    "\n",
    "# Set proportions of train-validate-test split\n",
    "trainPropPercent = 0.6\n",
    "validatePropPercent = 0.15\n",
    "testPropPercent = 0.25\n",
    "\n",
    "# Split dataset into training/validation data and testing data\n",
    "\n",
    "trainAndValidate, testDataPercent = # Your code goes here\n",
    "\n",
    "# Split training/validation data into training data and validation data\n",
    "trainDataPercent, validateDataPercent = train_test_split(\n",
    "    trainAndValidate, \n",
    "    train_size=trainPropPercent/(trainPropPercent+validatePropPercent),\n",
    "    random_state=rng\n",
    ")\n",
    "\n",
    "# Print split sizes and test dataset\n",
    "print('original dataset:', len(pines), \n",
    "    '\\ntrain_data:', len(trainDataPercent), \n",
    "    '\\nvalidation_data:', len(validateDataPercent), \n",
    "    '\\n\\ntest_data:', len(testDataPercent),\n",
    "    '\\n', testDataPercent\n",
    ")"
   ]
  },
  {
   "cell_type": "markdown",
   "id": "5c1913a0-7fa1-4cca-87e0-1b2be2d2aa06",
   "metadata": {},
   "source": [
    "**3) Researchers collected measurements from loblolly pines.**\n",
    "\n",
    "*  **Split the training/validation dataset into training and validation datasets using train_test_split() with the following parameters:**\n",
    "\n",
    "* **the training/validation dataframe**\n",
    "\n",
    "  * **the train_size parameter set to the equation: training proportion / (training proportion + validation proportion)**\n",
    "\n",
    "  * **the random_state parameter set to rng**\n",
    "\n",
    "**The code provided contains all imports, loads the dataset, sets the proportions of training, validation, and test data, splits the dataset into training/validation and test datasets, prints the sizes of these samples, and prints the test dataset.**"
   ]
  },
  {
   "cell_type": "code",
   "execution_count": null,
   "id": "cdcf8907-e6d5-4ca6-8402-09b9a1210897",
   "metadata": {},
   "outputs": [],
   "source": [
    "# Import packages and functions\n",
    "import pandas as pd\n",
    "import numpy as np\n",
    "from sklearn.model_selection import train_test_split\n",
    "\n",
    "rng = np.random.RandomState(16)\n",
    "\n",
    "# Load the dataset\n",
    "loblolly = pd.read_csv('loblollySample.csv')\n",
    "\n",
    "# Set proportions of train-validate-test split\n",
    "trainProportionPercent = 0.65\n",
    "validateProportionPercent = 0.2\n",
    "testProportionPercent = 0.15\n",
    "\n",
    "# Split dataset into training/validation data and testing data\n",
    "trainAndValidate, testDatasetPercent = train_test_split(\n",
    "    loblolly, \n",
    "    test_size=testProportionPercent,\n",
    "    random_state=rng\n",
    ")\n",
    "\n",
    "# Split training/validation data into training data and validation data\n",
    "\n",
    "trainDatasetPercent, validateDatasetPercent = # Your code goes here\n",
    "\n",
    "# Print split sizes and test dataset\n",
    "print('original dataset:', len(loblolly), \n",
    "    '\\ntrain_data:', len(trainDatasetPercent), \n",
    "    '\\nvalidation_data:', len(validateDatasetPercent), \n",
    "    '\\n\\ntest_data:', len(testDatasetPercent),\n",
    "    '\\n', testDatasetPercent\n",
    ")"
   ]
  }
 ],
 "metadata": {
  "kernelspec": {
   "display_name": "Python 3",
   "language": "python",
   "name": "python3"
  },
  "language_info": {
   "codemirror_mode": {
    "name": "ipython",
    "version": 3
   },
   "file_extension": ".py",
   "mimetype": "text/x-python",
   "name": "python",
   "nbconvert_exporter": "python",
   "pygments_lexer": "ipython3",
   "version": "3.12.1"
  }
 },
 "nbformat": 4,
 "nbformat_minor": 5
}
