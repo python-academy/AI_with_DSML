{
 "cells": [
  {
   "cell_type": "markdown",
   "id": "72db500f-b9cb-48f0-9605-3c802709bfe4",
   "metadata": {},
   "source": [
    "### Try 8.5.1: Binary classification metrics in Python."
   ]
  },
  {
   "cell_type": "markdown",
   "id": "e1b35993-74b0-4a5d-8cce-ba40d9895ab2",
   "metadata": {},
   "source": [
    "**The code below computes all three metrics for the logistic regression on the Wisconsin breast cancer data. Additionally, the code also computes the scores for predictions made from the same logistic regression but with different cutoffs.**\n",
    "* **Click the double-right arrow to restart the kernel and run all cells.**\n",
    "* **Examine the code below.**\n",
    "* **Note that B (benign) and M (malignant) in the dataframe are converted to 0 and 1, respectively.**\n",
    "* **Note the metric scores of the logistic regression.**\n",
    "* **Note the metric scores of the modified logistic regressions.**"
   ]
  },
  {
   "cell_type": "code",
   "execution_count": 1,
   "id": "b66ead05-7370-4fc4-8f1f-8febe8ffbf34",
   "metadata": {},
   "outputs": [],
   "source": [
    "# Import packages\n",
    "\n",
    "import numpy as np\n",
    "import pandas as pd\n",
    "import matplotlib.pyplot as plt"
   ]
  },
  {
   "cell_type": "code",
   "execution_count": 2,
   "id": "6f19f93f-5e7f-4ef5-a2ad-95f2e799a82f",
   "metadata": {},
   "outputs": [],
   "source": [
    "from sklearn import metrics\n",
    "from sklearn.linear_model import LogisticRegression"
   ]
  },
  {
   "cell_type": "code",
   "execution_count": 3,
   "id": "08769f5d-9dc2-4415-87e3-a816b0c01d21",
   "metadata": {},
   "outputs": [],
   "source": [
    "# Load breast cancer data and hot encodes categorical variable\n",
    "WBCD = pd.read_csv(\"WisconsinBreastCancerDatabase.csv\")\n",
    "WBCD.loc[WBCD['Diagnosis'] == 'B', 'Diagnosis'] = 0\n",
    "WBCD.loc[WBCD['Diagnosis'] == 'M', 'Diagnosis'] = 1"
   ]
  },
  {
   "cell_type": "code",
   "execution_count": 5,
   "id": "e7be2863-b1a2-4f13-8bce-b51430eaa29d",
   "metadata": {},
   "outputs": [],
   "source": [
    "# Store relevant columns as variables\n",
    "X = WBCD[['Radius mean']].values.reshape(-1, 1)\n",
    "y = WBCD[['Diagnosis']].values.reshape(-1, 1).astype(int)"
   ]
  },
  {
   "cell_type": "code",
   "execution_count": 9,
   "id": "5a9df6a1-175e-4aed-aaa4-7dd28df736e5",
   "metadata": {},
   "outputs": [],
   "source": [
    "# Logistic regression predicting diagnosis from tumor radius\n",
    "logisticModel = LogisticRegression()\n",
    "logisticModel.fit(X, np.ravel(y.astype(int)))\n",
    "cutoff = 0.5\n",
    "yPredictedProb = logisticModel.predict_proba(X)[:, 1]\n",
    "yPredLowCutoff = []\n",
    "for i in range(0, yPredictedProb.size):\n",
    "    if yPredictedProb[i] < cutoff:\n",
    "        yPredLowCutoff.append(0)\n",
    "    else:\n",
    "        yPredLowCutoff.append(1)"
   ]
  },
  {
   "cell_type": "code",
   "execution_count": 11,
   "id": "8a5cca06",
   "metadata": {},
   "outputs": [
    {
     "data": {
      "text/plain": [
       "array([[333,  24],\n",
       "       [ 45, 167]], dtype=int64)"
      ]
     },
     "execution_count": 11,
     "metadata": {},
     "output_type": "execute_result"
    }
   ],
   "source": [
    "# Display confusion matrix\n",
    "metrics.confusion_matrix(y, yPredLowCutoff)"
   ]
  },
  {
   "cell_type": "code",
   "execution_count": 13,
   "id": "7f9f92c3-4772-410e-8f6e-d7e6cd69be8c",
   "metadata": {},
   "outputs": [
    {
     "data": {
      "text/plain": [
       "0.8787346221441125"
      ]
     },
     "execution_count": 13,
     "metadata": {},
     "output_type": "execute_result"
    }
   ],
   "source": [
    "# Display accuracy\n",
    "metrics.accuracy_score(y, yPredLowCutoff)"
   ]
  },
  {
   "cell_type": "code",
   "execution_count": 15,
   "id": "7abb1acd-0f81-4d0d-9952-dccef7232475",
   "metadata": {},
   "outputs": [
    {
     "data": {
      "text/plain": [
       "0.8743455497382199"
      ]
     },
     "execution_count": 15,
     "metadata": {},
     "output_type": "execute_result"
    }
   ],
   "source": [
    "# Display precision\n",
    "metrics.precision_score(y, yPredLowCutoff)"
   ]
  },
  {
   "cell_type": "code",
   "execution_count": 17,
   "id": "59d58e6a-d4bd-449d-9266-51345c593acf",
   "metadata": {},
   "outputs": [
    {
     "data": {
      "text/plain": [
       "0.7877358490566038"
      ]
     },
     "execution_count": 17,
     "metadata": {},
     "output_type": "execute_result"
    }
   ],
   "source": [
    "# Display recall\n",
    "metrics.recall_score(y, yPredLowCutoff)"
   ]
  },
  {
   "cell_type": "code",
   "execution_count": 19,
   "id": "f69a2977-0f5d-4f20-8a8b-b6ce3f9e7c00",
   "metadata": {},
   "outputs": [
    {
     "data": {
      "image/png": "[encoded data removed]",
      "text/plain": [
       "<Figure size 640x480 with 1 Axes>"
      ]
     },
     "metadata": {},
     "output_type": "display_data"
    }
   ],
   "source": [
    "# Plot the ROC curve\n",
    "pred = logisticModel.predict_proba(X)[:, 1]\n",
    "fpr, tpr, thresholds = metrics.roc_curve(y, pred)\n",
    "roc_auc = metrics.auc(fpr, tpr)\n",
    "display = metrics.RocCurveDisplay(\n",
    "    fpr=fpr, tpr=tpr, roc_auc=roc_auc, pos_label='Malignant, 1'\n",
    ")\n",
    "display.plot()\n",
    "plt.show()"
   ]
  },
  {
   "cell_type": "markdown",
   "id": "30b71ce4-5673-4edb-8700-dea71160273d",
   "metadata": {},
   "source": [
    "## challenge activity 8.5.2: Binary classification metrics using scikit-learn."
   ]
  },
  {
   "cell_type": "markdown",
   "id": "6f1d5509-c1aa-4c06-ae40-9050adc6d6ce",
   "metadata": {},
   "source": [
    "## 1) Researchers collected measurements from adult domestic cats.\n",
    "\n",
    "* **Calculate the accuracy score metric for the model using the true values and the predicted values.**\n",
    "  \n",
    "**The code provided contains all imports, loads the dataset, initializes the logistic model, fits the model, and prints the metric.**"
   ]
  },
  {
   "cell_type": "code",
   "execution_count": null,
   "id": "cc9cf24d-7de6-4923-a003-fb06d4278f97",
   "metadata": {},
   "outputs": [],
   "source": [
    "# Import packages and functions\n",
    "import pandas as pd\n",
    "import numpy as np\n",
    "from sklearn.linear_model import LogisticRegression\n",
    "from sklearn.metrics import accuracy_score"
   ]
  },
  {
   "cell_type": "code",
   "execution_count": null,
   "id": "d2f3d095-55f7-4f02-a93b-367a6aaf1751",
   "metadata": {},
   "outputs": [],
   "source": [
    "\n",
    "\n",
    "# Load the dataset\n",
    "domesticCats = pd.read_csv('domesticCatsSample.csv')\n",
    "\n",
    "# Convert Sex to 0 and 1.\n",
    "domesticCats.loc[domesticCats['Sex'] == 'F', 'Sex'] = 0\n",
    "domesticCats.loc[domesticCats['Sex'] == 'M', 'Sex'] = 1\n",
    "\n",
    "# Store relevant columns as variables\n",
    "X = domesticCats[['Heart_weight']].values.reshape(-1, 1)\n",
    "y = domesticCats[['Sex']].values.reshape(-1, 1).astype(int)\n",
    "\n",
    "# Initialize and fit the model\n",
    "logisticModel = LogisticRegression()\n",
    "logisticModel = logisticModel.fit(X, np.ravel(y.astype(int)))\n",
    "\n",
    "# Make predictions\n",
    "yPrediction = logisticModel.predict(X).reshape(-1, 1).astype(int)\n",
    "\n",
    "# Evaluate accuracy -- accuracy score\n",
    "score = # Your code goes here\n",
    "\n",
    "print('Accuracy score =', score)"
   ]
  },
  {
   "cell_type": "markdown",
   "id": "ae2220c3-2cfb-4dfe-9bf1-fd3fc8f0992c",
   "metadata": {},
   "source": [
    "## 2) Researchers collected measurements from adult domestic cats.\n",
    "\n",
    "* **Calculate the precision score metric for the model using the true values and the predicted values.**\n",
    "\n",
    "  \n",
    "**The code provided contains all imports, loads the dataset, initializes the logistic model, fits the model, and prints the metric.**"
   ]
  },
  {
   "cell_type": "code",
   "execution_count": null,
   "id": "5b794f4c-c25e-4913-a0ae-0a100a1b77f0",
   "metadata": {},
   "outputs": [],
   "source": [
    "# Import packages and functions\n",
    "\n",
    "from sklearn.metrics import precision_score\n",
    "\n",
    "# Load the dataset\n",
    "domesticCats = pd.read_csv('domesticCatsSample.csv')\n",
    "\n",
    "# Convert Sex to 0 and 1.\n",
    "domesticCats.loc[domesticCats['Sex'] == 'F', 'Sex'] = 0\n",
    "domesticCats.loc[domesticCats['Sex'] == 'M', 'Sex'] = 1\n",
    "\n",
    "# Store relevant columns as variables\n",
    "X = domesticCats[['Body_weight']].values.reshape(-1, 1)\n",
    "y = domesticCats[['Sex']].values.reshape(-1, 1).astype(int)\n",
    "\n",
    "# Initialize and fit the model\n",
    "logisticModel = LogisticRegression()\n",
    "logisticModel = logisticModel.fit(X, np.ravel(y.astype(int)))\n",
    "\n",
    "# Make predictions\n",
    "yPred = logisticModel.predict(X).reshape(-1, 1).astype(int)\n",
    "\n",
    "# Evaluate accuracy -- precision score\n",
    "score = # Your code goes here\n",
    "\n",
    "print('Precision score =', score)"
   ]
  },
  {
   "cell_type": "markdown",
   "id": "7a35bc4b-2ac1-4d03-a73e-afd6dd5411e1",
   "metadata": {},
   "source": [
    "## 3)**Researchers collected measurements from adult domestic cats.**\n",
    "\n",
    "* **Calculate the recall score metric for the model using the true values and the predicted values.**\n",
    "  \n",
    "**The code provided contains all imports, loads the dataset, initializes the logistic model, fits the model, and prints the metric.**"
   ]
  },
  {
   "cell_type": "code",
   "execution_count": null,
   "id": "422fedd3-3951-43a7-b48a-9ff1136bfcdc",
   "metadata": {},
   "outputs": [],
   "source": [
    "# Import packages and functions\n",
    "\n",
    "from sklearn.metrics import recall_score\n",
    "\n",
    "# Load the dataset\n",
    "felines = pd.read_csv('felinesSample.csv')\n",
    "\n",
    "# Convert Sex to 0 and 1.\n",
    "felines.loc[felines['Sex'] == 'F', 'Sex'] = 0\n",
    "felines.loc[felines['Sex'] == 'M', 'Sex'] = 1\n",
    "\n",
    "# Store relevant columns as variables\n",
    "X = felines[['Heart_weight']].values.reshape(-1, 1)\n",
    "y = felines[['Sex']].values.reshape(-1, 1).astype(int)\n",
    "\n",
    "# Initialize and fit the model\n",
    "logisticModel = LogisticRegression()\n",
    "logisticModel = logisticModel.fit(X, np.ravel(y.astype(int)))\n",
    "\n",
    "# Make predictions\n",
    "yPrediction = logisticModel.predict(X).reshape(-1, 1).astype(int)\n",
    "\n",
    "# Evaluate accuracy -- recall score\n",
    "score = # Your code goes here\n",
    "\n",
    "print('Recall score =', score)"
   ]
  }
 ],
 "metadata": {
  "kernelspec": {
   "display_name": "Python 3 (ipykernel)",
   "language": "python",
   "name": "python3"
  },
  "language_info": {
   "codemirror_mode": {
    "name": "ipython",
    "version": 3
   },
   "file_extension": ".py",
   "mimetype": "text/x-python",
   "name": "python",
   "nbconvert_exporter": "python",
   "pygments_lexer": "ipython3",
   "version": "3.12.4"
  }
 },
 "nbformat": 4,
 "nbformat_minor": 5
}
