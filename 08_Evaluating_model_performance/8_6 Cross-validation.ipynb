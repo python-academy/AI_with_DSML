{
 "cells": [
  {
   "cell_type": "markdown",
   "id": "b8ae1a45-4fb9-41f5-ad75-398f14cd58e9",
   "metadata": {},
   "source": [
    "## Try 8.6.1: *k*-fold cross-validation in Python."
   ]
  },
  {
   "cell_type": "code",
   "execution_count": 1,
   "id": "a52b4525-a92d-4c4c-9b4b-4f84ca9d79e6",
   "metadata": {},
   "outputs": [],
   "source": [
    "# Import packages and functions\n",
    "import numpy as np\n",
    "import pandas as pd\n",
    "import matplotlib.pyplot as plt"
   ]
  },
  {
   "cell_type": "code",
   "execution_count": 2,
   "id": "45f24718-7daf-4911-8682-6db3736d0875",
   "metadata": {},
   "outputs": [],
   "source": [
    "from sklearn import linear_model\n",
    "from sklearn.linear_model import LinearRegression\n",
    "from sklearn.model_selection import train_test_split, cross_val_score"
   ]
  },
  {
   "cell_type": "code",
   "execution_count": 7,
   "id": "d865c378-d63f-4d29-bcc2-3748fc273aa2",
   "metadata": {},
   "outputs": [
    {
     "data": {
      "text/html": [
       "<div>\n",
       "<style scoped>\n",
       "    .dataframe tbody tr th:only-of-type {\n",
       "        vertical-align: middle;\n",
       "    }\n",
       "\n",
       "    .dataframe tbody tr th {\n",
       "        vertical-align: top;\n",
       "    }\n",
       "\n",
       "    .dataframe thead th {\n",
       "        text-align: right;\n",
       "    }\n",
       "</style>\n",
       "<table border=\"1\" class=\"dataframe\">\n",
       "  <thead>\n",
       "    <tr style=\"text-align: right;\">\n",
       "      <th></th>\n",
       "      <th>State</th>\n",
       "      <th>Number of drivers involved in fatal collisions per billion miles</th>\n",
       "      <th>Percentage Of Drivers Involved In Fatal Collisions Who Were Speeding</th>\n",
       "      <th>Percentage Of Drivers Involved In Fatal Collisions Who Were Alcohol-Impaired</th>\n",
       "      <th>Percentage Of Drivers Involved In Fatal Collisions Who Were Not Distracted</th>\n",
       "      <th>Percentage Of Drivers Involved In Fatal Collisions Who Had Not Been Involved In Any Previous Accidents</th>\n",
       "      <th>Car Insurance Premiums ($)</th>\n",
       "      <th>Losses incurred by insurance companies for collisions per insured driver ($)</th>\n",
       "    </tr>\n",
       "  </thead>\n",
       "  <tbody>\n",
       "    <tr>\n",
       "      <th>0</th>\n",
       "      <td>Alabama</td>\n",
       "      <td>18.8</td>\n",
       "      <td>39</td>\n",
       "      <td>30</td>\n",
       "      <td>96</td>\n",
       "      <td>80</td>\n",
       "      <td>784.55</td>\n",
       "      <td>145.08</td>\n",
       "    </tr>\n",
       "    <tr>\n",
       "      <th>1</th>\n",
       "      <td>Alaska</td>\n",
       "      <td>18.1</td>\n",
       "      <td>41</td>\n",
       "      <td>25</td>\n",
       "      <td>90</td>\n",
       "      <td>94</td>\n",
       "      <td>1053.48</td>\n",
       "      <td>133.93</td>\n",
       "    </tr>\n",
       "    <tr>\n",
       "      <th>2</th>\n",
       "      <td>Arizona</td>\n",
       "      <td>18.6</td>\n",
       "      <td>35</td>\n",
       "      <td>28</td>\n",
       "      <td>84</td>\n",
       "      <td>96</td>\n",
       "      <td>899.47</td>\n",
       "      <td>110.35</td>\n",
       "    </tr>\n",
       "    <tr>\n",
       "      <th>3</th>\n",
       "      <td>Arkansas</td>\n",
       "      <td>22.4</td>\n",
       "      <td>18</td>\n",
       "      <td>26</td>\n",
       "      <td>94</td>\n",
       "      <td>95</td>\n",
       "      <td>827.34</td>\n",
       "      <td>142.39</td>\n",
       "    </tr>\n",
       "    <tr>\n",
       "      <th>4</th>\n",
       "      <td>California</td>\n",
       "      <td>12.0</td>\n",
       "      <td>35</td>\n",
       "      <td>28</td>\n",
       "      <td>91</td>\n",
       "      <td>89</td>\n",
       "      <td>878.41</td>\n",
       "      <td>165.63</td>\n",
       "    </tr>\n",
       "  </tbody>\n",
       "</table>\n",
       "</div>"
      ],
      "text/plain": [
       "        State  \\\n",
       "0     Alabama   \n",
       "1      Alaska   \n",
       "2     Arizona   \n",
       "3    Arkansas   \n",
       "4  California   \n",
       "\n",
       "   Number of drivers involved in fatal collisions per billion miles  \\\n",
       "0                                               18.8                  \n",
       "1                                               18.1                  \n",
       "2                                               18.6                  \n",
       "3                                               22.4                  \n",
       "4                                               12.0                  \n",
       "\n",
       "   Percentage Of Drivers Involved In Fatal Collisions Who Were Speeding  \\\n",
       "0                                                 39                      \n",
       "1                                                 41                      \n",
       "2                                                 35                      \n",
       "3                                                 18                      \n",
       "4                                                 35                      \n",
       "\n",
       "   Percentage Of Drivers Involved In Fatal Collisions Who Were Alcohol-Impaired  \\\n",
       "0                                                 30                              \n",
       "1                                                 25                              \n",
       "2                                                 28                              \n",
       "3                                                 26                              \n",
       "4                                                 28                              \n",
       "\n",
       "   Percentage Of Drivers Involved In Fatal Collisions Who Were Not Distracted  \\\n",
       "0                                                 96                            \n",
       "1                                                 90                            \n",
       "2                                                 84                            \n",
       "3                                                 94                            \n",
       "4                                                 91                            \n",
       "\n",
       "   Percentage Of Drivers Involved In Fatal Collisions Who Had Not Been Involved In Any Previous Accidents  \\\n",
       "0                                                 80                                                        \n",
       "1                                                 94                                                        \n",
       "2                                                 96                                                        \n",
       "3                                                 95                                                        \n",
       "4                                                 89                                                        \n",
       "\n",
       "   Car Insurance Premiums ($)  \\\n",
       "0                      784.55   \n",
       "1                     1053.48   \n",
       "2                      899.47   \n",
       "3                      827.34   \n",
       "4                      878.41   \n",
       "\n",
       "   Losses incurred by insurance companies for collisions per insured driver ($)  \n",
       "0                                             145.08                             \n",
       "1                                             133.93                             \n",
       "2                                             110.35                             \n",
       "3                                             142.39                             \n",
       "4                                             165.63                             "
      ]
     },
     "execution_count": 7,
     "metadata": {},
     "output_type": "execute_result"
    }
   ],
   "source": [
    "# Import dataset\n",
    "badDrivers = pd.read_csv('bad-drivers.csv')\n",
    "badDrivers.head()"
   ]
  },
  {
   "cell_type": "code",
   "execution_count": 9,
   "id": "fe74ce51-7d55-4dc9-b9a6-930e4bd7767e",
   "metadata": {},
   "outputs": [
    {
     "data": {
      "text/plain": [
       "Index(['State',\n",
       "       'Number of drivers involved in fatal collisions per billion miles',\n",
       "       'Percentage Of Drivers Involved In Fatal Collisions Who Were Speeding',\n",
       "       'Percentage Of Drivers Involved In Fatal Collisions Who Were Alcohol-Impaired',\n",
       "       'Percentage Of Drivers Involved In Fatal Collisions Who Were Not Distracted',\n",
       "       'Percentage Of Drivers Involved In Fatal Collisions Who Had Not Been Involved In Any Previous Accidents',\n",
       "       'Car Insurance Premiums ($)',\n",
       "       'Losses incurred by insurance companies for collisions per insured driver ($)'],\n",
       "      dtype='object')"
      ]
     },
     "execution_count": 9,
     "metadata": {},
     "output_type": "execute_result"
    }
   ],
   "source": [
    "badDrivers.columns"
   ]
  },
  {
   "cell_type": "code",
   "execution_count": 11,
   "id": "2b96f759-11bc-4202-a330-cc9b02bf96c6",
   "metadata": {},
   "outputs": [
    {
     "data": {
      "text/plain": [
       "State                                                                                                     0\n",
       "Number of drivers involved in fatal collisions per billion miles                                          0\n",
       "Percentage Of Drivers Involved In Fatal Collisions Who Were Speeding                                      0\n",
       "Percentage Of Drivers Involved In Fatal Collisions Who Were Alcohol-Impaired                              0\n",
       "Percentage Of Drivers Involved In Fatal Collisions Who Were Not Distracted                                0\n",
       "Percentage Of Drivers Involved In Fatal Collisions Who Had Not Been Involved In Any Previous Accidents    0\n",
       "Car Insurance Premiums ($)                                                                                0\n",
       "Losses incurred by insurance companies for collisions per insured driver ($)                              0\n",
       "dtype: int64"
      ]
     },
     "execution_count": 11,
     "metadata": {},
     "output_type": "execute_result"
    }
   ],
   "source": [
    "badDrivers.isnull().sum()"
   ]
  },
  {
   "cell_type": "code",
   "execution_count": 13,
   "id": "60e90262-de4e-460d-98f0-c799b1b381a7",
   "metadata": {},
   "outputs": [],
   "source": [
    "\n",
    "\n",
    "# Split off 20% of the data to be left out as test data\n",
    "badDriversTrainingdata, testData = train_test_split(badDrivers, test_size=0.20)\n",
    "\n",
    "# Store relevant columns as variables\n",
    "X = badDriversTrainingdata[\n",
    "    ['Losses incurred by insurance companies for collisions per insured driver ($)']\n",
    "].values.reshape(-1, 1)\n",
    "y = badDriversTrainingdata[['Car Insurance Premiums ($)']].values.reshape(-1, 1)"
   ]
  },
  {
   "cell_type": "code",
   "execution_count": 15,
   "id": "f973e694-baa3-4a19-834a-a25d191310c0",
   "metadata": {},
   "outputs": [
    {
     "data": {
      "image/png": "[encoded data removed]",
      "text/plain": [
       "<Figure size 640x480 with 1 Axes>"
      ]
     },
     "metadata": {},
     "output_type": "display_data"
    }
   ],
   "source": [
    "# Fit a linear model to the data\n",
    "linModel = LinearRegression()\n",
    "linModel.fit(X, y)\n",
    "yPredicted = linModel.predict(X)\n",
    "\n",
    "# Plot the fitted model\n",
    "plt.scatter(X, y, color='black')\n",
    "plt.plot(X, yPredicted, color='blue', linewidth=1)\n",
    "plt.xlabel('Losses incurred by insurance companies', fontsize=14);\n",
    "plt.ylabel('Car insurance premiums', fontsize=14);"
   ]
  },
  {
   "cell_type": "code",
   "execution_count": 17,
   "id": "ae892f7e-2311-41d3-951b-760345526979",
   "metadata": {},
   "outputs": [],
   "source": [
    "# neg_mean_square_error is the negative MSE, so add a - so the scores are positive.\n",
    "ten_fold_scores = -cross_val_score(\n",
    "    linModel, X, y, scoring='neg_mean_squared_error', cv=10\n",
    ")"
   ]
  },
  {
   "cell_type": "code",
   "execution_count": 19,
   "id": "d1ff8436-6dfb-4fe2-9a09-8e4753bd0ea7",
   "metadata": {},
   "outputs": [
    {
     "data": {
      "text/plain": [
       "array([12854.29008042, 14011.28536727, 19333.54534803,  7067.30998934,\n",
       "       28858.98618794, 50091.84506566,  8358.77214019, 17146.99284004,\n",
       "        7173.30868103, 24233.00876568])"
      ]
     },
     "execution_count": 19,
     "metadata": {},
     "output_type": "execute_result"
    }
   ],
   "source": [
    "ten_fold_scores"
   ]
  },
  {
   "cell_type": "code",
   "execution_count": 21,
   "id": "5371e61a-279f-4341-960f-a1d142418a18",
   "metadata": {},
   "outputs": [],
   "source": [
    "# neg_mean_square_error is the negative MSE, so add a - so the scores are positive.\n",
    "LOOCV_scores = -cross_val_score(linModel, X, y, scoring='neg_mean_squared_error', cv=40)"
   ]
  },
  {
   "cell_type": "code",
   "execution_count": 23,
   "id": "dad1d863-8dd7-499d-8ce1-80f43ebb063f",
   "metadata": {},
   "outputs": [
    {
     "data": {
      "text/plain": [
       "array([5.78149578e+03, 4.16894250e+02, 1.75890047e+04, 1.98417565e+04,\n",
       "       4.53159934e+01, 5.46565144e+04, 2.15270295e+03, 1.19305044e+03,\n",
       "       1.70172689e+04, 2.25696292e+04, 4.82077474e+03, 2.05943558e+04,\n",
       "       3.05856911e+03, 2.26384063e+04, 3.33170622e+02, 1.51763716e+03,\n",
       "       4.44462924e+04, 5.46136964e+03, 2.57004195e+04, 4.31337635e+04,\n",
       "       1.66901845e+04, 1.99174209e+04, 5.77049629e+04, 9.85634925e+04,\n",
       "       2.06918704e+04, 8.61211160e+03, 1.74191428e+02, 2.35559187e+03,\n",
       "       7.20848638e+02, 3.31173379e+04, 3.32654685e+04, 4.88278653e+03,\n",
       "       1.61346062e+04, 3.40973011e+03, 5.20077006e+03, 6.46353157e+03,\n",
       "       8.81124075e+02, 9.92134566e+03, 8.01073828e+03, 8.34936826e+04])"
      ]
     },
     "execution_count": 23,
     "metadata": {},
     "output_type": "execute_result"
    }
   ],
   "source": [
    "LOOCV_scores"
   ]
  },
  {
   "cell_type": "code",
   "execution_count": 25,
   "id": "2917df42-845f-49dd-855c-696fbb2c79d6",
   "metadata": {},
   "outputs": [
    {
     "data": {
      "image/png": "[encoded data removed]",
      "text/plain": [
       "<Figure size 640x480 with 1 Axes>"
      ]
     },
     "metadata": {},
     "output_type": "display_data"
    }
   ],
   "source": [
    "# Plot the errors for both scores\n",
    "plt.plot(np.zeros_like(ten_fold_scores), ten_fold_scores, '.')\n",
    "plt.plot(np.zeros_like(LOOCV_scores) + 1, LOOCV_scores, '.')\n",
    "plt.ylabel('Mean squared errors', fontsize=14);\n",
    "plt.xticks([0, 1], ['10-fold', 'LOOCV']);"
   ]
  },
  {
   "cell_type": "markdown",
   "id": "03ecaff9-7bcc-49f6-9977-5061727cd2e3",
   "metadata": {},
   "source": [
    "## challenge activity 8.6.2: Cross-validation using scikit-learn."
   ]
  },
  {
   "cell_type": "markdown",
   "id": "850a65e3-eaa0-4e6a-853e-fa19e2b66ea1",
   "metadata": {},
   "source": [
    "## 1) Researchers collected measurements from loblolly pines.\n",
    "\n",
    "**Split the dataset into train and test datasets using the train_test_split() method with the following parameters, respectively:**\n",
    " * **the original data frame**\n",
    " * **the test_size parameter set to the test proportion**\n",
    " * **the random_state parameter set to rng**\n",
    "\n",
    "**The proportion for the train dataset is 85%.**\n",
    "\n",
    "**The code provided contains all imports, loads the dataset, initializes the model, calculates the MSE for 10-fold and **k**-fold cross-validation, and prints the average MSE and the set of all MSEs for 10-fold and *k*-fold cross-validation.**"
   ]
  },
  {
   "cell_type": "code",
   "execution_count": 32,
   "id": "466f3e76-214f-44ca-9b41-651d78963c00",
   "metadata": {},
   "outputs": [],
   "source": [
    "# Import packages and functions\n",
    "\n",
    "from sklearn.preprocessing import PolynomialFeatures\n"
   ]
  },
  {
   "cell_type": "code",
   "execution_count": null,
   "id": "cfa1d0cc-5211-4810-855c-ac304a3dd1c0",
   "metadata": {},
   "outputs": [],
   "source": [
    "\n",
    "\n",
    "rng = np.random.RandomState(49)\n",
    "\n",
    "# Load the dataset\n",
    "loblollyPine = pd.read_csv('loblollyPineSample.csv')\n",
    "\n",
    "# Split dataset into training data and testing data\n",
    "trainingDataName, testingDataName = # Your code goes here\n",
    "\n",
    "# Store relevant columns as variables\n",
    "X = trainingDataName[['age']]\n",
    "y = trainingDataName[['height']]\n",
    "\n",
    "# Initialize the model -- quadratic polynomial regression model\n",
    "polyFeatures = PolynomialFeatures(degree=2, include_bias=False)\n",
    "xPoly = polyFeatures.fit_transform(X)\n",
    "quadraticPolynomialRegressionModel = LinearRegression()\n",
    "\n",
    "# Evaluate accuracy\n",
    "# neg_mean_square_error is the negative MSE, so append a - so the scores are positive.\n",
    "tenFoldScores = -cross_val_score(quadraticPolynomialRegressionModel, X, y, scoring='neg_mean_squared_error', cv=10)\n",
    "\n",
    "print('ten-fold average MSE =', np.mean(tenFoldScores), '\\n', tenFoldScores)\n",
    "\n",
    "# neg_mean_square_error is the negative MSE, so append a minus so the scores are positive.\n",
    "LOOCVScores = -cross_val_score(quadraticPolynomialRegressionModel, X, y, scoring='neg_mean_squared_error', cv=len(X))\n",
    "\n",
    "print('\\nk-fold average MSE =', np.mean(LOOCVScores), '\\n', LOOCVScores)"
   ]
  },
  {
   "cell_type": "markdown",
   "id": "db49a4b8-9c28-4b4c-bbef-e52797d2d53a",
   "metadata": {},
   "source": [
    "## 2)Researchers collected measurements from loblolly pines.\n",
    "\n",
    "* **Calculate the mean squared errors for **k**-fold cross-validation with **k**= 10. Use the negative of the cross_val_score() method with the following parameters, respectively:**\n",
    "    * **the model variable**\n",
    "    * **x_variable**\n",
    "    * **y_variable**\n",
    "    * **the scoring parameter set to neg_mean_squared_error**\n",
    "    * **the cv parameter set to 10**\n",
    "\n",
    "**Both x_variable and y_variable are from the training set.**\n",
    "\n",
    "**The code provided contains all imports, loads the dataset, splits the dataset into train and test datasets, initializes the model, calculates the MSEs for *k*-fold cross-validation, and prints average MSE and the set of all MSEs for both 10-fold and *k*-fold cross-validation.**"
   ]
  },
  {
   "cell_type": "code",
   "execution_count": null,
   "id": "7d16fd48-89b1-4038-b653-051a1c689981",
   "metadata": {},
   "outputs": [],
   "source": [
    "\n",
    "rng = np.random.RandomState(17)\n",
    "\n",
    "# Load the dataset\n",
    "loblollyPine = pd.read_csv('loblollyPineSample.csv')\n",
    "\n",
    "# Split dataset into training data and testing data\n",
    "trainDatasetName, testDatasetName = train_test_split(loblollyPine, test_size=0.3, random_state=rng)\n",
    "\n",
    "# Store relevant columns as variables\n",
    "X = trainDatasetName[['age']]\n",
    "y = trainDatasetName[['height']]\n",
    "\n",
    "# Initialize the model -- quadratic polynomial regression model\n",
    "polyFeatures = PolynomialFeatures(degree=2, include_bias=False)\n",
    "xPoly = polyFeatures.fit_transform(X)\n",
    "polynomialRegressionModel = LinearRegression()\n",
    "\n",
    "# Evaluate accuracy\n",
    "# neg_mean_square_error is the negative MSE, so append a minus so the scores are positive.\n",
    "tenFoldScores = # Your code goes here\n",
    "\n",
    "print('ten-fold average MSE =', np.mean(tenFoldScores), '\\n', tenFoldScores)\n",
    "\n",
    "# neg_mean_square_error is the negative MSE, so append a - so the scores are positive.\n",
    "LOOCVScores = -cross_val_score(polynomialRegressionModel, X, y, scoring='neg_mean_squared_error', cv=len(X))\n",
    "\n",
    "print('\\nk-fold average MSE =', np.mean(LOOCVScores), '\\n', LOOCVScores)"
   ]
  },
  {
   "cell_type": "markdown",
   "id": "12a3b143-f2fb-4c92-bcfc-d107ccc137ed",
   "metadata": {},
   "source": [
    "## 3) Researchers collected measurements from loblolly pines.\n",
    "\n",
    "Calculate the mean squared errors for **k**-fold cross-validation with *k*= length of the training dataset. Use the negative of the cross_val_score() method with the following parameters, respectively:\n",
    "the model variable\n",
    "* **x_variable**\n",
    "* **y_variable**\n",
    "* **the scoring parameter set to neg_mean_squared_error**\n",
    "* **the cv parameter set to len(x_variable)**\n",
    "  \n",
    "**Both x_variable and y_variable are from the training set.**\n",
    "\n",
    "**The code provided contains all imports, loads the dataset, splits the dataset into train and test datasets, initializes the model, calculates the MSEs for *k*-fold cross-validation, and prints average MSE and the set of all MSEs for both 10-fold and *k*-fold cross-validation.**"
   ]
  },
  {
   "cell_type": "code",
   "execution_count": null,
   "id": "08f60e4d-0378-49dd-96da-3047477bed0b",
   "metadata": {},
   "outputs": [],
   "source": [
    "\n",
    "\n",
    "rng = np.random.RandomState(8)\n",
    "\n",
    "# Load the dataset\n",
    "pines = pd.read_csv('pinesSample.csv')\n",
    "\n",
    "# Split dataset into training data and testing data\n",
    "trainDataName, testDataName = train_test_split(pines, test_size=0.3, random_state=rng)\n",
    "\n",
    "# Store relevant columns as variables\n",
    "X = trainDataName[['age']]\n",
    "y = trainDataName[['height']]\n",
    "\n",
    "# Initialize the model -- quadratic polynomial regression model\n",
    "polyFeatures = PolynomialFeatures(degree=2, include_bias=False)\n",
    "xPoly = polyFeatures.fit_transform(X)\n",
    "quadraticPolynomialRegressionModel = LinearRegression()\n",
    "\n",
    "# Evaluate accuracy\n",
    "# neg_mean_square_error is the negative MSE, so append a - so the scores are positive.\n",
    "tenFoldScores = -cross_val_score(quadraticPolynomialRegressionModel, X, y, scoring='neg_mean_squared_error', cv=10)\n",
    "\n",
    "print('ten-fold average MSE =', np.mean(tenFoldScores), '\\n', tenFoldScores)\n",
    "\n",
    "# neg_mean_square_error is the negative MSE, so append a - so the scores are positive.\n",
    "LOOCVScores = # Your code goes here\n",
    "\n",
    "print('\\nk-fold average MSE =', np.mean(LOOCVScores), '\\n', LOOCVScores)"
   ]
  }
 ],
 "metadata": {
  "kernelspec": {
   "display_name": "Python 3 (ipykernel)",
   "language": "python",
   "name": "python3"
  },
  "language_info": {
   "codemirror_mode": {
    "name": "ipython",
    "version": 3
   },
   "file_extension": ".py",
   "mimetype": "text/x-python",
   "name": "python",
   "nbconvert_exporter": "python",
   "pygments_lexer": "ipython3",
   "version": "3.12.4"
  },
  "widgets": {
   "application/vnd.jupyter.widget-state+json": {
    "state": {},
    "version_major": 2,
    "version_minor": 0
   }
  }
 },
 "nbformat": 4,
 "nbformat_minor": 5
}
