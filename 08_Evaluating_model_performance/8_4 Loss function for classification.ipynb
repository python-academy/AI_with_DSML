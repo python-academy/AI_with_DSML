{
 "cells": [
  {
   "cell_type": "code",
   "execution_count": null,
   "id": "d6bf390a-e9bc-44a5-bbbb-b22c97174856",
   "metadata": {},
   "outputs": [],
   "source": []
  },
  {
   "cell_type": "markdown",
   "id": "a965a77f-a66d-4a6b-b262-a7431fa8a379",
   "metadata": {},
   "source": [
    "## Try 8.4.1: Loss functions for classification in Python.\n",
    "\n",
    "\n",
    "* **The code below computes the log loss for a logistic regression model on the Wisconsin breast cancer dataset.**\n",
    "* **Click the double-right arrow to restart the kernel and run all cells.**\n",
    "* **Examine the code below.**"
   ]
  },
  {
   "cell_type": "code",
   "execution_count": 1,
   "id": "b6eb933d-f981-4d3c-a2d2-06df74d62d87",
   "metadata": {},
   "outputs": [],
   "source": [
    "# Import packages and functions\n",
    "\n",
    "import numpy as np\n",
    "import pandas as pd\n",
    "import matplotlib.pyplot as plt"
   ]
  },
  {
   "cell_type": "code",
   "execution_count": 2,
   "id": "452615fe-a6bf-4d73-9490-dfdd9c8e5a2d",
   "metadata": {},
   "outputs": [],
   "source": [
    "from sklearn import metrics\n",
    "from sklearn.linear_model import LogisticRegression\n",
    "from sklearn.model_selection import train_test_split"
   ]
  },
  {
   "cell_type": "code",
   "execution_count": 3,
   "id": "724337ce-1e15-4376-9b4a-db27a9905b01",
   "metadata": {},
   "outputs": [],
   "source": [
    "# Load the Wisconsin Breast Cancer dataset\n",
    "WBCD = pd.read_csv('WisconsinBreastCancerDatabase.csv')"
   ]
  },
  {
   "cell_type": "code",
   "execution_count": 15,
   "id": "d522fee5-45fa-4e67-a20f-1e24cdcde0f7",
   "metadata": {},
   "outputs": [
    {
     "data": {
      "text/html": [
       "<div>\n",
       "<style scoped>\n",
       "    .dataframe tbody tr th:only-of-type {\n",
       "        vertical-align: middle;\n",
       "    }\n",
       "\n",
       "    .dataframe tbody tr th {\n",
       "        vertical-align: top;\n",
       "    }\n",
       "\n",
       "    .dataframe thead th {\n",
       "        text-align: right;\n",
       "    }\n",
       "</style>\n",
       "<table border=\"1\" class=\"dataframe\">\n",
       "  <thead>\n",
       "    <tr style=\"text-align: right;\">\n",
       "      <th></th>\n",
       "      <th>ID</th>\n",
       "      <th>Diagnosis</th>\n",
       "      <th>Radius mean</th>\n",
       "      <th>Texture mean</th>\n",
       "      <th>Perimeter mean</th>\n",
       "      <th>Area mean</th>\n",
       "      <th>Smoothness mean</th>\n",
       "      <th>Compactness mean</th>\n",
       "      <th>Concavity mean</th>\n",
       "      <th>Concave points mean</th>\n",
       "      <th>...</th>\n",
       "      <th>Radius worst</th>\n",
       "      <th>Texture worst</th>\n",
       "      <th>Perimeter worst</th>\n",
       "      <th>Area worst</th>\n",
       "      <th>Smoothness worst</th>\n",
       "      <th>Compactness worst</th>\n",
       "      <th>Concavity worst</th>\n",
       "      <th>Concave points worst</th>\n",
       "      <th>Symmetry worst</th>\n",
       "      <th>Fractal dimension worst</th>\n",
       "    </tr>\n",
       "  </thead>\n",
       "  <tbody>\n",
       "    <tr>\n",
       "      <th>0</th>\n",
       "      <td>842302</td>\n",
       "      <td>1</td>\n",
       "      <td>17.99</td>\n",
       "      <td>10.38</td>\n",
       "      <td>122.80</td>\n",
       "      <td>1001.0</td>\n",
       "      <td>0.11840</td>\n",
       "      <td>0.27760</td>\n",
       "      <td>0.3001</td>\n",
       "      <td>0.14710</td>\n",
       "      <td>...</td>\n",
       "      <td>25.38</td>\n",
       "      <td>17.33</td>\n",
       "      <td>184.60</td>\n",
       "      <td>2019.0</td>\n",
       "      <td>0.1622</td>\n",
       "      <td>0.6656</td>\n",
       "      <td>0.7119</td>\n",
       "      <td>0.2654</td>\n",
       "      <td>0.4601</td>\n",
       "      <td>0.11890</td>\n",
       "    </tr>\n",
       "    <tr>\n",
       "      <th>1</th>\n",
       "      <td>842517</td>\n",
       "      <td>1</td>\n",
       "      <td>20.57</td>\n",
       "      <td>17.77</td>\n",
       "      <td>132.90</td>\n",
       "      <td>1326.0</td>\n",
       "      <td>0.08474</td>\n",
       "      <td>0.07864</td>\n",
       "      <td>0.0869</td>\n",
       "      <td>0.07017</td>\n",
       "      <td>...</td>\n",
       "      <td>24.99</td>\n",
       "      <td>23.41</td>\n",
       "      <td>158.80</td>\n",
       "      <td>1956.0</td>\n",
       "      <td>0.1238</td>\n",
       "      <td>0.1866</td>\n",
       "      <td>0.2416</td>\n",
       "      <td>0.1860</td>\n",
       "      <td>0.2750</td>\n",
       "      <td>0.08902</td>\n",
       "    </tr>\n",
       "    <tr>\n",
       "      <th>2</th>\n",
       "      <td>84300903</td>\n",
       "      <td>1</td>\n",
       "      <td>19.69</td>\n",
       "      <td>21.25</td>\n",
       "      <td>130.00</td>\n",
       "      <td>1203.0</td>\n",
       "      <td>0.10960</td>\n",
       "      <td>0.15990</td>\n",
       "      <td>0.1974</td>\n",
       "      <td>0.12790</td>\n",
       "      <td>...</td>\n",
       "      <td>23.57</td>\n",
       "      <td>25.53</td>\n",
       "      <td>152.50</td>\n",
       "      <td>1709.0</td>\n",
       "      <td>0.1444</td>\n",
       "      <td>0.4245</td>\n",
       "      <td>0.4504</td>\n",
       "      <td>0.2430</td>\n",
       "      <td>0.3613</td>\n",
       "      <td>0.08758</td>\n",
       "    </tr>\n",
       "    <tr>\n",
       "      <th>3</th>\n",
       "      <td>84348301</td>\n",
       "      <td>1</td>\n",
       "      <td>11.42</td>\n",
       "      <td>20.38</td>\n",
       "      <td>77.58</td>\n",
       "      <td>386.1</td>\n",
       "      <td>0.14250</td>\n",
       "      <td>0.28390</td>\n",
       "      <td>0.2414</td>\n",
       "      <td>0.10520</td>\n",
       "      <td>...</td>\n",
       "      <td>14.91</td>\n",
       "      <td>26.50</td>\n",
       "      <td>98.87</td>\n",
       "      <td>567.7</td>\n",
       "      <td>0.2098</td>\n",
       "      <td>0.8663</td>\n",
       "      <td>0.6869</td>\n",
       "      <td>0.2575</td>\n",
       "      <td>0.6638</td>\n",
       "      <td>0.17300</td>\n",
       "    </tr>\n",
       "    <tr>\n",
       "      <th>4</th>\n",
       "      <td>84358402</td>\n",
       "      <td>1</td>\n",
       "      <td>20.29</td>\n",
       "      <td>14.34</td>\n",
       "      <td>135.10</td>\n",
       "      <td>1297.0</td>\n",
       "      <td>0.10030</td>\n",
       "      <td>0.13280</td>\n",
       "      <td>0.1980</td>\n",
       "      <td>0.10430</td>\n",
       "      <td>...</td>\n",
       "      <td>22.54</td>\n",
       "      <td>16.67</td>\n",
       "      <td>152.20</td>\n",
       "      <td>1575.0</td>\n",
       "      <td>0.1374</td>\n",
       "      <td>0.2050</td>\n",
       "      <td>0.4000</td>\n",
       "      <td>0.1625</td>\n",
       "      <td>0.2364</td>\n",
       "      <td>0.07678</td>\n",
       "    </tr>\n",
       "  </tbody>\n",
       "</table>\n",
       "<p>5 rows × 32 columns</p>\n",
       "</div>"
      ],
      "text/plain": [
       "         ID Diagnosis  Radius mean  Texture mean  Perimeter mean  Area mean  \\\n",
       "0    842302         1        17.99         10.38          122.80     1001.0   \n",
       "1    842517         1        20.57         17.77          132.90     1326.0   \n",
       "2  84300903         1        19.69         21.25          130.00     1203.0   \n",
       "3  84348301         1        11.42         20.38           77.58      386.1   \n",
       "4  84358402         1        20.29         14.34          135.10     1297.0   \n",
       "\n",
       "   Smoothness mean  Compactness mean  Concavity mean  Concave points mean  \\\n",
       "0          0.11840           0.27760          0.3001              0.14710   \n",
       "1          0.08474           0.07864          0.0869              0.07017   \n",
       "2          0.10960           0.15990          0.1974              0.12790   \n",
       "3          0.14250           0.28390          0.2414              0.10520   \n",
       "4          0.10030           0.13280          0.1980              0.10430   \n",
       "\n",
       "   ...  Radius worst  Texture worst  Perimeter worst  Area worst  \\\n",
       "0  ...         25.38          17.33           184.60      2019.0   \n",
       "1  ...         24.99          23.41           158.80      1956.0   \n",
       "2  ...         23.57          25.53           152.50      1709.0   \n",
       "3  ...         14.91          26.50            98.87       567.7   \n",
       "4  ...         22.54          16.67           152.20      1575.0   \n",
       "\n",
       "   Smoothness worst  Compactness worst  Concavity worst  Concave points worst  \\\n",
       "0            0.1622             0.6656           0.7119                0.2654   \n",
       "1            0.1238             0.1866           0.2416                0.1860   \n",
       "2            0.1444             0.4245           0.4504                0.2430   \n",
       "3            0.2098             0.8663           0.6869                0.2575   \n",
       "4            0.1374             0.2050           0.4000                0.1625   \n",
       "\n",
       "   Symmetry worst  Fractal dimension worst  \n",
       "0          0.4601                  0.11890  \n",
       "1          0.2750                  0.08902  \n",
       "2          0.3613                  0.08758  \n",
       "3          0.6638                  0.17300  \n",
       "4          0.2364                  0.07678  \n",
       "\n",
       "[5 rows x 32 columns]"
      ]
     },
     "execution_count": 15,
     "metadata": {},
     "output_type": "execute_result"
    }
   ],
   "source": [
    "WBCD.head()"
   ]
  },
  {
   "cell_type": "code",
   "execution_count": 17,
   "id": "5843b013-ac7e-422e-a544-ded95e8306bd",
   "metadata": {},
   "outputs": [],
   "source": [
    "# Convert Diagnosis to 0 and 1\n",
    "WBCD.loc[WBCD['Diagnosis'] == 'B', 'Diagnosis'] = 0\n",
    "WBCD.loc[WBCD['Diagnosis'] == 'M', 'Diagnosis'] = 1"
   ]
  },
  {
   "cell_type": "code",
   "execution_count": 19,
   "id": "82cdf225-4df6-4953-a4c0-31fb8b7a6b4b",
   "metadata": {},
   "outputs": [],
   "source": [
    "# Store relevant columns as variables\n",
    "X = WBCD[['Radius mean']].values.reshape(-1, 1)\n",
    "y = WBCD[['Diagnosis']].values.reshape(-1, 1).astype(int)"
   ]
  },
  {
   "cell_type": "code",
   "execution_count": 21,
   "id": "4e650f9e-e590-4aa0-a32d-9f6ae559d90c",
   "metadata": {},
   "outputs": [],
   "source": [
    "# Split data into train and test sets\n",
    "X_train, X_test, y_train, y_test = train_test_split(\n",
    "    X, y, test_size=0.3, random_state=123\n",
    ")"
   ]
  },
  {
   "cell_type": "code",
   "execution_count": 23,
   "id": "1cae94f6-9b36-4771-aa7e-76f54d1b13a8",
   "metadata": {},
   "outputs": [],
   "source": [
    "# Logistic regression predicting diagnosis from tumor radius\n",
    "logisticModel = LogisticRegression();\n",
    "logisticModel.fit(X_train, np.ravel(y_train.astype(int)));"
   ]
  },
  {
   "cell_type": "code",
   "execution_count": 25,
   "id": "ebd783a8-2f78-4d94-98ff-779f5ddaa0cd",
   "metadata": {},
   "outputs": [
    {
     "data": {
      "image/png": "[encoded data removed]",
      "text/plain": [
       "<Figure size 640x480 with 1 Axes>"
      ]
     },
     "metadata": {},
     "output_type": "display_data"
    }
   ],
   "source": [
    "# Graph logistic regression probabilities\n",
    "plt.scatter(X_test, y_test)\n",
    "x_prob = np.linspace(X_test.min(), X_test.max(), 1000)\n",
    "y_prob = logisticModel.predict_proba(x_prob.reshape(-1, 1))[:, 1]\n",
    "plt.plot(x_prob, y_prob, color='red')\n",
    "plt.xlabel('Radius mean', fontsize=14);\n",
    "plt.ylabel('Probability of malignant tumor', fontsize=14);"
   ]
  },
  {
   "cell_type": "code",
   "execution_count": 27,
   "id": "9c794820-091e-4256-83f5-5d2fb294db21",
   "metadata": {},
   "outputs": [],
   "source": [
    "# Predict the probabilities for the test set\n",
    "p_hat = logisticModel.predict_proba(X_test)"
   ]
  },
  {
   "cell_type": "code",
   "execution_count": 29,
   "id": "12c53e47-b90e-4659-9235-cade124050a8",
   "metadata": {},
   "outputs": [
    {
     "data": {
      "text/plain": [
       "0.31342546048710146"
      ]
     },
     "execution_count": 29,
     "metadata": {},
     "output_type": "execute_result"
    }
   ],
   "source": [
    "# Display the log-loss\n",
    "metrics.log_loss(y_test, p_hat)"
   ]
  },
  {
   "cell_type": "code",
   "execution_count": null,
   "id": "632d6357-adee-4503-abd0-3e4b8c96e5c2",
   "metadata": {},
   "outputs": [],
   "source": []
  }
 ],
 "metadata": {
  "kernelspec": {
   "display_name": "Python 3 (ipykernel)",
   "language": "python",
   "name": "python3"
  },
  "language_info": {
   "codemirror_mode": {
    "name": "ipython",
    "version": 3
   },
   "file_extension": ".py",
   "mimetype": "text/x-python",
   "name": "python",
   "nbconvert_exporter": "python",
   "pygments_lexer": "ipython3",
   "version": "3.12.4"
  }
 },
 "nbformat": 4,
 "nbformat_minor": 5
}
