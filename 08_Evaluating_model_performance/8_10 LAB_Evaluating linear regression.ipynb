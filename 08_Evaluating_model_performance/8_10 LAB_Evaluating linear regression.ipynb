{
 "cells": [
  {
   "cell_type": "markdown",
   "id": "f424c213-6f80-472d-a2c6-e0bdf2bc29c9",
   "metadata": {},
   "source": [
    "## 8.10 LAB: Evaluating linear regression using cross-validation"
   ]
  },
  {
   "cell_type": "markdown",
   "id": "fbccbf79-4090-4a76-926f-0509a2ed05e2",
   "metadata": {},
   "source": [
    "**The nbaallelo_slr dataset contains information on 126315 NBA games between 1947 and 2015. The columns report the points made by one team, the Elo rating of that team coming into the game, the Elo rating of the team after the game, and the points made by the opposing team. The Elo rating measures the relative skill of teams in a league.**\n",
    "\n",
    "**The code creates a new column y in the data frame that is the difference between pts and opp_pts.**\n",
    "**Split the data into 70 percent training set and 30 percent testing set using sklearns train_test_split function. Set random_state=0.**\n",
    " * **Store elo_i and y from the training data as the variables X and y.**\n",
    " * **The code performs a simple linear regression on X and y.**\n",
    " * **Perform 10-fold cross-validation with the default scorer using scikit-learns cross_val_score function.**\n",
    "**Ex: If random_state=1 is used, the output is:**"
   ]
  },
  {
   "cell_type": "code",
   "execution_count": null,
   "id": "0aa8f889-8f4a-4632-9a3e-b56299596afa",
   "metadata": {},
   "outputs": [],
   "source": []
  },
  {
   "cell_type": "code",
   "execution_count": 3,
   "id": "3cf2d67c-6a62-4a15-813f-6b58a0725c28",
   "metadata": {},
   "outputs": [],
   "source": [
    "import numpy as np\n",
    "import pandas as pd\n",
    "\n",
    "from sklearn.linear_model import LinearRegression\n",
    "from sklearn.model_selection import train_test_split, cross_val_score"
   ]
  },
  {
   "cell_type": "code",
   "execution_count": null,
   "id": "95250cf1-9d0f-4dd4-b1b3-b90593c5d21a",
   "metadata": {},
   "outputs": [],
   "source": [
    "\n",
    "\n",
    "nba = pd.read_csv(\"nbaallelo_slr.csv\")\n",
    "\n",
    "# Create a new column in the data frame that is the difference between pts and opp_pts\n",
    "nba['y'] = nba['pts'] - nba['opp_pts']\n",
    "\n",
    "# Split the data into training and test sets\n",
    "train, test = # Your code here\n",
    "\n",
    "# Store relevant columns as variables\n",
    "X = # Your code here\n",
    "y = # Your code here\n",
    "\n",
    "# Initialize the linear regression model\n",
    "SLRModel = LinearRegression()\n",
    "# Fit the model on X and y\n",
    "SLRModel.fit(X,y)\n",
    "\n",
    "# Perform 10-fold cross-validation with the default scorer\n",
    "tenFoldScores = # Your code here\n",
    "print('The cross-validation scores are', tenFoldScores)"
   ]
  },
  {
   "cell_type": "code",
   "execution_count": null,
   "id": "e064a945-9a4e-43de-90aa-39d438d67140",
   "metadata": {},
   "outputs": [],
   "source": []
  },
  {
   "cell_type": "code",
   "execution_count": null,
   "id": "d8768724-f3a9-42a4-9216-7ff116966fe5",
   "metadata": {},
   "outputs": [],
   "source": []
  }
 ],
 "metadata": {
  "kernelspec": {
   "display_name": "Python [conda env:base] *",
   "language": "python",
   "name": "conda-base-py"
  },
  "language_info": {
   "codemirror_mode": {
    "name": "ipython",
    "version": 3
   },
   "file_extension": ".py",
   "mimetype": "text/x-python",
   "name": "python",
   "nbconvert_exporter": "python",
   "pygments_lexer": "ipython3",
   "version": "3.12.7"
  }
 },
 "nbformat": 4,
 "nbformat_minor": 5
}
