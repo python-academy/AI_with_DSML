{
 "cells": [
  {
   "cell_type": "code",
   "execution_count": 1,
   "id": "4111e00a-928f-4f7b-861e-84accbad7171",
   "metadata": {
    "tags": []
   },
   "outputs": [
    {
     "data": {
      "text/plain": [
       "True"
      ]
     },
     "execution_count": 1,
     "metadata": {},
     "output_type": "execute_result"
    }
   ],
   "source": [
    "import nltk\n",
    "from nltk.tokenize import word_tokenize\n",
    "from nltk.stem import PorterStemmer, WordNetLemmatizer\n",
    "from nltk.tag import pos_tag\n",
    "nltk.download(\"wordnet\", quiet=True)\n",
    "nltk.download(\"omw-1.4\", quiet=True)\n",
    "nltk.download(\"punkt\", quiet=True)\n",
    "nltk.download(\"averaged_perceptron_tagger\", quiet=True)"
   ]
  },
  {
   "cell_type": "code",
   "execution_count": 2,
   "id": "0adabb7a-e312-4e3f-8022-cd074a183ab6",
   "metadata": {
    "tags": []
   },
   "outputs": [],
   "source": [
    "text = word_tokenize(\"We went again and had an even better experience!\")"
   ]
  },
  {
   "cell_type": "code",
   "execution_count": 3,
   "id": "ac327ac5-1b36-4142-ae94-69dc9dcff946",
   "metadata": {
    "tags": []
   },
   "outputs": [
    {
     "data": {
      "text/plain": [
       "['We',\n",
       " 'went',\n",
       " 'again',\n",
       " 'and',\n",
       " 'had',\n",
       " 'an',\n",
       " 'even',\n",
       " 'better',\n",
       " 'experience',\n",
       " '!']"
      ]
     },
     "execution_count": 3,
     "metadata": {},
     "output_type": "execute_result"
    }
   ],
   "source": [
    "text"
   ]
  },
  {
   "cell_type": "code",
   "execution_count": 4,
   "id": "1ff4ad9f-06a4-4096-8b94-1df36c9777fe",
   "metadata": {
    "tags": []
   },
   "outputs": [
    {
     "name": "stdout",
     "output_type": "stream",
     "text": [
      "Word           Stem      \n",
      "We             we        \n",
      "went           went      \n",
      "again          again     \n",
      "and            and       \n",
      "had            had       \n",
      "an             an        \n",
      "even           even      \n",
      "better         better    \n",
      "experience     experi    \n",
      "!              !         \n"
     ]
    }
   ],
   "source": [
    "# Initializes a stemmer\n",
    "ps = PorterStemmer()\n",
    "print(\"{0:15}{1:10}\".format(\"Word\",\"Stem\"))\n",
    "for word in text:\n",
    "    print (\"{0:15}{1:10}\".format(word, ps.stem(word)))"
   ]
  },
  {
   "cell_type": "code",
   "execution_count": 5,
   "id": "ad89838e-0a82-423c-a0b1-4f70fb1d6a8b",
   "metadata": {
    "tags": []
   },
   "outputs": [
    {
     "name": "stdout",
     "output_type": "stream",
     "text": [
      "Word           Lemma     \n",
      "We             We        \n",
      "went           go        \n",
      "again          again     \n",
      "and            and       \n",
      "had            have      \n",
      "an             an        \n",
      "even           even      \n",
      "better         better    \n",
      "experience     experience\n",
      "!              !         \n"
     ]
    }
   ],
   "source": [
    "# Initializes a lemmatizer\n",
    "wnl = WordNetLemmatizer()\n",
    "print(\"{0:15}{1:10}\".format(\"Word\",\"Lemma\"))\n",
    "for word in text:\n",
    "    print(\"{0:15}{1:10}\".format(word, wnl.lemmatize(word, pos=\"v\")))"
   ]
  },
  {
   "cell_type": "code",
   "execution_count": 6,
   "id": "257600d8-3212-42f4-ba8f-5901b05a91e4",
   "metadata": {
    "tags": []
   },
   "outputs": [
    {
     "data": {
      "text/plain": [
       "[('We', 'PRP'),\n",
       " ('went', 'VBD'),\n",
       " ('again', 'RB'),\n",
       " ('and', 'CC'),\n",
       " ('had', 'VBD'),\n",
       " ('an', 'DT'),\n",
       " ('even', 'RB'),\n",
       " ('better', 'JJR'),\n",
       " ('experience', 'NN'),\n",
       " ('!', '.')]"
      ]
     },
     "execution_count": 6,
     "metadata": {},
     "output_type": "execute_result"
    }
   ],
   "source": [
    "# Returns corresponding tags for the tokens\n",
    "pos_tag(text)"
   ]
  }
 ],
 "metadata": {
  "kernelspec": {
   "display_name": "Python 3 - python3",
   "language": "python3",
   "name": "python3"
  },
  "language_info": {
   "codemirror_mode": {
    "name": "ipython",
    "version": 3
   },
   "file_extension": ".py",
   "mimetype": "text/x-python",
   "name": "python",
   "nbconvert_exporter": "python",
   "pygments_lexer": "ipython3",
   "version": "3.11.9"
  }
 },
 "nbformat": 4,
 "nbformat_minor": 5
}
