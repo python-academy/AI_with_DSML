{
  "cells": [
    {
      "cell_type": "code",
      "execution_count": 1,
      "id": "6e6042d1-788b-47c2-8f51-4d80d3394142",
      "metadata": {
        "id": "6e6042d1-788b-47c2-8f51-4d80d3394142"
      },
      "outputs": [],
      "source": [
        "import warnings\n",
        "warnings.filterwarnings(\"ignore\")"
      ]
    },
    {
      "cell_type": "code",
      "execution_count": 2,
      "id": "d7f21232-839c-4d8f-97c2-5909066f57a3",
      "metadata": {
        "id": "d7f21232-839c-4d8f-97c2-5909066f57a3"
      },
      "outputs": [],
      "source": [
        "# Load pipeline from HuggingFace's transformers library\n",
        "from transformers import pipeline"
      ]
    },
    {
      "cell_type": "code",
      "execution_count": 3,
      "id": "c4ef70e8-7ca5-409d-bbc5-b87506462f29",
      "metadata": {
        "id": "c4ef70e8-7ca5-409d-bbc5-b87506462f29"
      },
      "outputs": [],
      "source": [
        "question1 = \"What kind of bar is Daydreamer?\"\n",
        "question2 = \"Where is Daydreamer?\"\n",
        "context = \"Daydreamer is a cocktail and champagne bar located on East 6th Street in Austin, Texas.\""
      ]
    },
    {
      "cell_type": "code",
      "execution_count": 4,
      "id": "3ae89779-05a4-4dd3-bd44-89d0a2209d2c",
      "metadata": {
        "id": "3ae89779-05a4-4dd3-bd44-89d0a2209d2c"
      },
      "outputs": [],
      "source": [
        "model = pipeline(\"question-answering\", model=\"distilbert/distilbert-base-cased-distilled-squad\")"
      ]
    },
    {
      "cell_type": "code",
      "source": [
        " model(question=question1, context=context)"
      ],
      "metadata": {
        "id": "Ub4NNYWFDIHE",
        "outputId": "e579125f-49e8-4d25-a6a2-5f203901a00f",
        "colab": {
          "base_uri": "https://localhost:8080/"
        }
      },
      "id": "Ub4NNYWFDIHE",
      "execution_count": 5,
      "outputs": [
        {
          "output_type": "execute_result",
          "data": {
            "text/plain": [
              "{'score': 0.4553297460079193,\n",
              " 'start': 16,\n",
              " 'end': 38,\n",
              " 'answer': 'cocktail and champagne'}"
            ]
          },
          "metadata": {},
          "execution_count": 5
        }
      ]
    },
    {
      "cell_type": "code",
      "source": [
        "model(question=question2, context=context)"
      ],
      "metadata": {
        "id": "5RgF3CvdDTH_",
        "outputId": "81e32631-f00d-4353-d63d-bb3fb8213334",
        "colab": {
          "base_uri": "https://localhost:8080/"
        }
      },
      "id": "5RgF3CvdDTH_",
      "execution_count": 6,
      "outputs": [
        {
          "output_type": "execute_result",
          "data": {
            "text/plain": [
              "{'score': 0.2544308006763458,\n",
              " 'start': 54,\n",
              " 'end': 86,\n",
              " 'answer': 'East 6th Street in Austin, Texas'}"
            ]
          },
          "metadata": {},
          "execution_count": 6
        }
      ]
    }
  ],
  "metadata": {
    "kernelspec": {
      "display_name": "Python 3 (ipykernel)",
      "language": "python",
      "name": "python3"
    },
    "language_info": {
      "codemirror_mode": {
        "name": "ipython",
        "version": 3
      },
      "file_extension": ".py",
      "mimetype": "text/x-python",
      "name": "python",
      "nbconvert_exporter": "python",
      "pygments_lexer": "ipython3",
      "version": "3.9.6"
    },
    "colab": {
      "provenance": []
    }
  },
  "nbformat": 4,
  "nbformat_minor": 5
}