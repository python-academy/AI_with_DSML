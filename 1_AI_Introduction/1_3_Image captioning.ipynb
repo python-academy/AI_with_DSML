{
 "cells": [
  {
   "cell_type": "code",
   "execution_count": 1,
   "id": "dbbce675-4697-4c33-b797-d06d347c280f",
   "metadata": {},
   "outputs": [],
   "source": [
    "import warnings\n",
    "warnings.filterwarnings(action = 'ignore')"
   ]
  },
  {
   "cell_type": "code",
   "execution_count": 2,
   "id": "147673c7-dd5c-44bc-9fa3-23271cbec84e",
   "metadata": {},
   "outputs": [],
   "source": [
    "from transformers import pipeline\n",
    "from transformers.utils import logging\n",
    "logging.set_verbosity(40)"
   ]
  },
  {
   "cell_type": "code",
   "execution_count": 3,
   "id": "e2e8bd5c-6c87-49c8-99be-d6a417f17f4f",
   "metadata": {},
   "outputs": [],
   "source": [
    "### Task: Image captioning\n",
    "captioner = pipeline(task=\"image-to-text\",\n",
    "                     model=\"nlpconnect/vit-gpt2-image-captioning\")"
   ]
  },
  {
   "cell_type": "code",
   "execution_count": 4,
   "id": "d0bdbde9-9eab-49de-ba9e-9ca3acf27e40",
   "metadata": {},
   "outputs": [
    {
     "data": {
      "text/plain": [
       "[{'generated_text': 'a dog is sitting on the ground with its paws on the ground '}]"
      ]
     },
     "execution_count": 4,
     "metadata": {},
     "output_type": "execute_result"
    }
   ],
   "source": [
    "captioner(\"dog.jpg\")"
   ]
  }
 ],
 "metadata": {
  "kernelspec": {
   "display_name": "Python 3 - python3",
   "language": "python3",
   "name": "python3"
  },
  "language_info": {
   "codemirror_mode": {
    "name": "ipython",
    "version": 3
   },
   "file_extension": ".py",
   "mimetype": "text/x-python",
   "name": "python",
   "nbconvert_exporter": "python",
   "pygments_lexer": "ipython3",
   "version": "3.11.9"
  }
 },
 "nbformat": 4,
 "nbformat_minor": 5
}
