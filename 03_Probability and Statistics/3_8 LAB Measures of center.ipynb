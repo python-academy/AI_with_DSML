{
 "cells": [
  {
   "cell_type": "markdown",
   "id": "c3209846-d393-4603-b455-37d5c8f6cc88",
   "metadata": {},
   "source": [
    "## lab activity|3.8.1: LAB: Measures of center"
   ]
  },
  {
   "cell_type": "markdown",
   "id": "b0e12659-1ceb-4e49-a7df-316c7ea2c3b4",
   "metadata": {},
   "source": [
    "**The mtcars dataset contains data from the 1974 Motor Trends magazine, and includes 10 features of performance and design from a sample of 32 cars.**\n",
    "\n",
    "* **Import the csv file mtcars.csv as a data frame using a pandas module function.** ` \n",
    "\n",
    "* **Find the mean, median, and mode of the column wt.**\n",
    "\n",
    "* **Print the mean and median.**\n",
    "\n",
    "**Ex: for the column qsec, the output would be:**\n",
    "\n",
    "**mean = 17.84875, median = 17.710**"
   ]
  },
  {
   "cell_type": "code",
   "execution_count": null,
   "id": "3049a94f-70e7-4208-82b1-a21f739736e5",
   "metadata": {},
   "outputs": [],
   "source": [
    "import pandas as pd\n",
    "\n",
    "# Read in the file mtcars.csv\n",
    "cars = # Your code here\n",
    "\n",
    "# Find the mean of the column wt\n",
    "mean = # Your code here\n",
    "\n",
    "# Find the median of the column wt\n",
    "median = # Your code here\n",
    "\n",
    "print(\"mean = {:.5f}, median = {:.3f}\".format(mean, median))"
   ]
  }
 ],
 "metadata": {
  "kernelspec": {
   "display_name": "Python [conda env:base] *",
   "language": "python",
   "name": "conda-base-py"
  },
  "language_info": {
   "codemirror_mode": {
    "name": "ipython",
    "version": 3
   },
   "file_extension": ".py",
   "mimetype": "text/x-python",
   "name": "python",
   "nbconvert_exporter": "python",
   "pygments_lexer": "ipython3",
   "version": "3.12.7"
  }
 },
 "nbformat": 4,
 "nbformat_minor": 5
}
