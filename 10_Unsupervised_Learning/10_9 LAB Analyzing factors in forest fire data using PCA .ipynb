{
 "cells": [
  {
   "cell_type": "markdown",
   "id": "5ed24d76-e8c8-4fa2-a685-f536f10cd0c1",
   "metadata": {},
   "source": [
    "## lab activity 10.9.1: LAB: Analyzing factors in forest fire data using PCA"
   ]
  },
  {
   "cell_type": "markdown",
   "id": "c55b88af-1504-4447-a487-ee61485455c3",
   "metadata": {},
   "source": [
    "**The forestfires dataset contains meteorological information and the area burned for 517 forest fires that occurred in Montesinho Natural Park in Portugal. The columns of interest are FFMC, DMC, DC, ISI, temp, RH, wind, and rain.**\n",
    "\n",
    "* **Read in the file forestfires.csv.**\n",
    "* **Create a new data frame X from the columns FFMC, DMC, DC, ISI, temp, RH, wind, and rain, in that order.**\n",
    "* **Calculate the correlation matrix for the data in X.**\n",
    "* **Scale the data.**\n",
    "* **Use sklearn's PCA function to perform four-component factor analysis on the scaled data.**\n",
    "* **Print the factors and the explained variance.**\n"
   ]
  },
  {
   "cell_type": "markdown",
   "id": "7f5341ed-9049-4b55-9d82-1bf78e868a38",
   "metadata": {},
   "source": [
    "* **Ex: If only the columns FFMC, DMC, DC, and ISI are used, the output is:**"
   ]
  },
  {
   "cell_type": "raw",
   "id": "8a249bb8-3ae9-4851-ae64-df97d9de9ab1",
   "metadata": {},
   "source": [
    "          FFMC       DMC        DC       ISI\n",
    "FFMC  1.000000  0.382619  0.330512  0.531805\n",
    "DMC   0.382619  1.000000  0.682192  0.305128\n",
    "DC    0.330512  0.682192  1.000000  0.229154\n",
    "ISI   0.531805  0.305128  0.229154  1.000000\n",
    "Factors:  [[-0.49479654 -0.54446142 -0.51357442 -0.44156478]\n",
    " [ 0.4452682  -0.41127563 -0.51447927  0.60654734]\n",
    " [-0.7462607   0.11293664  0.03607655  0.65501051]\n",
    " [-0.00275454  0.72225995 -0.68574841 -0.0899005 ]]\n",
    "Explained variance:  [2.24300907 0.99105069 0.4602303  0.31346188]"
   ]
  },
  {
   "cell_type": "code",
   "execution_count": null,
   "id": "9cd28090-fdeb-49c5-ae56-b16c1728dbe8",
   "metadata": {},
   "outputs": [],
   "source": [
    "# Import the necessary modules\n",
    "import pandas as pd\n",
    "from sklearn.preprocessing import StandardScaler\n",
    "from sklearn.decomposition import PCA\n",
    "\n",
    "# Read in forestfires.csv\n",
    "fires = # Your code here\n",
    "\n",
    "# Create a new data frame with the columns FFMC, DMC, DC, ISI, temp, RH, wind, and rain, in that order\n",
    "X = # Your code here\n",
    "\n",
    "# Calculate the correlation matrix for the data in the data frame X\n",
    "XCorr = # Your code here\n",
    "print(XCorr)\n",
    "\n",
    "# Scale the data.\n",
    "scaler = # Your code here\n",
    "firesScaled = # Your code here\n",
    "\n",
    "# Perform four-component factor analysis on the scaled data.\n",
    "# Your code here\n",
    "\n",
    "# Print the factors and the explained variance.\n",
    "print(\"Factors: \", # Your code here)\n",
    "\n",
    "print(\"Explained variance: \", # Your code here)"
   ]
  }
 ],
 "metadata": {
  "kernelspec": {
   "display_name": "Python [conda env:base] *",
   "language": "python",
   "name": "conda-base-py"
  },
  "language_info": {
   "codemirror_mode": {
    "name": "ipython",
    "version": 3
   },
   "file_extension": ".py",
   "mimetype": "text/x-python",
   "name": "python",
   "nbconvert_exporter": "python",
   "pygments_lexer": "ipython3",
   "version": "3.12.7"
  }
 },
 "nbformat": 4,
 "nbformat_minor": 5
}
