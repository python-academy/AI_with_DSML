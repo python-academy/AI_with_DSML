{
 "cells": [
  {
   "cell_type": "markdown",
   "id": "c71bb332-3a54-491c-ac10-ea56a78b665b",
   "metadata": {},
   "source": [
    "## 10.8 LAB: Grouping mammal sleep habits using k-means clustering"
   ]
  },
  {
   "cell_type": "markdown",
   "id": "abc52b37-cc14-466a-ae20-c0aca7ea1ec7",
   "metadata": {},
   "source": [
    "**The msleep dataset contains information on sleep habits for 83 mammals. Features include total sleep, length of the sleep cycle, time spent awake, brain weight, and body weight. Animals are also labeled with their name, genus, and conservation status.**\n",
    "\n",
    "* **Load the dataset msleep.csv into a data frame.**\n",
    "* **Create a new data frame X with sleep_total and sleep_cycle.**\n",
    "* **Initialize a k-means clustering model with 4 clusters and random_state = 0.**\n",
    "* **Fit the model to the data subset X.**\n",
    "* **Find the centroids of the clusters in the model.**\n",
    "* **Graph the clusters using the cluster numbers to specify colors.**\n",
    "* **Find the within-cluster sum of squares for 1, 2, 3, 4, and 5 clusters.**"
   ]
  },
  {
   "cell_type": "markdown",
   "id": "ea2f882f-275a-4bf8-9e02-0d05b8756224",
   "metadata": {},
   "source": [
    "**Ex: If the columns sleep_total and sleep_rem are used instead, the output is:**"
   ]
  },
  {
   "cell_type": "markdown",
   "id": "98a55517-b148-4567-9ffa-bf496a5ba5c9",
   "metadata": {},
   "source": [
    "**[[13.35714286  2.47142857]**\n",
    "\n",
    "**[ 3.76666667  0.76666667]**\n",
    "\n",
    "**[ 9.22857143  2.        ]**\n",
    "\n",
    "**[18.36666667  3.96666667]]**\n",
    "\n",
    "**[420.5, 147.9, 74.0, 24.7, 18.5]**"
   ]
  },
  {
   "cell_type": "code",
   "execution_count": null,
   "id": "302339db-f46b-4107-8066-05a07ea19930",
   "metadata": {},
   "outputs": [],
   "source": [
    "from sklearn.cluster import KMeans\n",
    "import pandas as pd\n",
    "import matplotlib.pyplot as plt\n",
    "import warnings\n",
    "warnings.filterwarnings(\"ignore\")\n",
    "\n",
    "# Load the dataset\n",
    "mammalSleep = # Your code here\n",
    "\n",
    "# Clean the data\n",
    "mammalSleep = mammalSleep.dropna()\n",
    "\n",
    "# Create a dataframe with the columns sleep_total and sleep_cycle\n",
    "X = # Your code here\n",
    "\n",
    "# Initialize a k-means clustering model with 4 clusters and random_state = 0\n",
    "km = # Your code here\n",
    "\n",
    "# Fit the model\n",
    "mammalSleepKm = # Your code here\n",
    "\n",
    "# Find the centroids of the clusters\n",
    "mammalSleepCentroids = # Your code here\n",
    "print(mammalSleepCentroids)\n",
    "\n",
    "# Predict the cluster for each data point in mammal_sleep\n",
    "mammalSleep['cluster'] = # Your code here\n",
    "\n",
    "plt.figure(figsize=(6, 6))\n",
    "\n",
    "# Graph the clusters\n",
    "# Your code here\n",
    "\n",
    "plt.xlabel('Total sleep', fontsize=14)\n",
    "plt.ylabel('Length of sleep cycle',fontsize=14)\n",
    "plt.savefig('msleep_clusters.png')\n",
    "\n",
    "WCSS = []\n",
    "k = [1,2,3,4,5]\n",
    "for j in k:\n",
    "    km = KMeans(n_clusters = j)\n",
    "    mammalSleepKmWCSS = km.fit(X)\n",
    "    intermediateWCSS = # find the within-cluster sum of squares\n",
    "    WCSS.append(round(intermediateWCSS,1))\n",
    "    \n",
    "print(WCSS)"
   ]
  },
  {
   "cell_type": "code",
   "execution_count": null,
   "id": "fd00849f-6fe6-4258-92be-aa3008549969",
   "metadata": {},
   "outputs": [],
   "source": []
  }
 ],
 "metadata": {
  "kernelspec": {
   "display_name": "Python [conda env:base] *",
   "language": "python",
   "name": "conda-base-py"
  },
  "language_info": {
   "codemirror_mode": {
    "name": "ipython",
    "version": 3
   },
   "file_extension": ".py",
   "mimetype": "text/x-python",
   "name": "python",
   "nbconvert_exporter": "python",
   "pygments_lexer": "ipython3",
   "version": "3.12.7"
  }
 },
 "nbformat": 4,
 "nbformat_minor": 5
}
